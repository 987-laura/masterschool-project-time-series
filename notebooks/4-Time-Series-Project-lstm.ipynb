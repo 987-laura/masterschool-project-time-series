{
 "cells": [
  {
   "cell_type": "code",
   "execution_count": 20,
   "id": "38e92449",
   "metadata": {},
   "outputs": [],
   "source": [
    "#pip install numpy "
   ]
  },
  {
   "cell_type": "code",
   "execution_count": 21,
   "id": "99bea4ba",
   "metadata": {},
   "outputs": [],
   "source": [
    "#pip install scikit-learn"
   ]
  },
  {
   "cell_type": "code",
   "execution_count": 22,
   "id": "cc6f80d6",
   "metadata": {},
   "outputs": [],
   "source": [
    "#pip install matplotlib"
   ]
  },
  {
   "cell_type": "code",
   "execution_count": 23,
   "id": "574fe978",
   "metadata": {},
   "outputs": [],
   "source": [
    "#pip install seaborn "
   ]
  },
  {
   "cell_type": "code",
   "execution_count": 24,
   "id": "142da611",
   "metadata": {},
   "outputs": [],
   "source": [
    "#pip install statsmodels"
   ]
  },
  {
   "cell_type": "code",
   "execution_count": 25,
   "id": "cff2f5d8",
   "metadata": {},
   "outputs": [],
   "source": [
    "#pip install xgboost"
   ]
  },
  {
   "cell_type": "code",
   "execution_count": 26,
   "id": "6771b730",
   "metadata": {},
   "outputs": [],
   "source": [
    "#pip install darts"
   ]
  },
  {
   "cell_type": "code",
   "execution_count": 27,
   "id": "7749d667",
   "metadata": {},
   "outputs": [],
   "source": [
    "#pip install mlflow\n"
   ]
  },
  {
   "cell_type": "code",
   "execution_count": 28,
   "id": "b1bd5041",
   "metadata": {},
   "outputs": [],
   "source": [
    "#pip install pyngrok --quiet"
   ]
  },
  {
   "cell_type": "code",
   "execution_count": 29,
   "id": "35906652",
   "metadata": {},
   "outputs": [],
   "source": [
    "#pip uninstall -y tensorflow tensorflow-intel tensorflow-io-gcs-filesystem ml-dtypes protobuf grpcio"
   ]
  },
  {
   "cell_type": "code",
   "execution_count": 30,
   "id": "f4eab409",
   "metadata": {},
   "outputs": [],
   "source": [
    "#pip install tensorflow==2.16.1"
   ]
  },
  {
   "cell_type": "markdown",
   "id": "2a9957a5",
   "metadata": {},
   "source": [
    "# Bibliotheken laden"
   ]
  },
  {
   "cell_type": "code",
   "execution_count": 31,
   "id": "b15e0759",
   "metadata": {},
   "outputs": [],
   "source": [
    "# Bibliotheken importieren\n",
    "\n",
    "import pandas as pd\n",
    "import numpy as np\n",
    "\n",
    "import matplotlib.pyplot as plt\n",
    "import seaborn as sns\n",
    "\n",
    "from sklearn.metrics import mean_squared_error, mean_absolute_error\n",
    "from sklearn.model_selection import train_test_split, cross_val_score, GridSearchCV, TimeSeriesSplit, RandomizedSearchCV\n",
    "from sklearn.preprocessing import OneHotEncoder, MinMaxScaler\n",
    "\n",
    "import xgboost as xgb\n",
    "from xgboost import XGBRegressor\n",
    "from xgboost import XGBModel\n",
    "\n",
    "import mlflow\n",
    "import mlflow.xgboost\n",
    "\n",
    "from pyngrok import ngrok, conf\n",
    "import getpass\n",
    "import subprocess\n",
    "\n",
    "import os\n",
    "\n",
    "# reproducibility\n",
    "np.random.seed(42)\n",
    "\n",
    "#from sklearn.model_selection import TimeSeriesSplit, RandomizedSearchCV # new import we need for this week"
   ]
  },
  {
   "cell_type": "code",
   "execution_count": 32,
   "id": "32c04e75",
   "metadata": {},
   "outputs": [],
   "source": [
    "import tensorflow as tf\n",
    "from tensorflow.keras import Sequential\n",
    "from tensorflow.keras.layers import LSTM, Dropout, Dense\n",
    "from tensorflow.keras.callbacks import EarlyStopping\n",
    "\n",
    "\n",
    "\n",
    "tf.random.set_seed(42)\n"
   ]
  },
  {
   "cell_type": "code",
   "execution_count": 33,
   "id": "994c0287",
   "metadata": {},
   "outputs": [
    {
     "data": {
      "text/plain": [
       "<Experiment: artifact_location='file:///Users/laurapeters/Desktop/VS-Time-series-Projekt/mlflow_results/551520531669055046', creation_time=1756999473550, experiment_id='551520531669055046', last_update_time=1756999473550, lifecycle_stage='active', name='Modell-Vergleiche', tags={}>"
      ]
     },
     "execution_count": 33,
     "metadata": {},
     "output_type": "execute_result"
    }
   ],
   "source": [
    "# Speicherort für MLflow Runs (lokal auf deinem Mac)\n",
    "mlflow_storage_path = \"/Users/laurapeters/Desktop/VS-Time-series-Projekt/mlflow_results\"\n",
    "os.makedirs(mlflow_storage_path, exist_ok=True)\n",
    "\n",
    "# Tracking konfigurieren\n",
    "mlflow.set_tracking_uri(f\"file:{mlflow_storage_path}\")\n",
    "\n",
    "# Experiment festlegen (wird automatisch erstellt, falls nicht vorhanden)\n",
    "mlflow.set_experiment(\"Modell-Vergleiche\")"
   ]
  },
  {
   "cell_type": "markdown",
   "id": "b19c5f72",
   "metadata": {},
   "source": [
    "# Daten laden"
   ]
  },
  {
   "cell_type": "code",
   "execution_count": 34,
   "id": "f7a31250",
   "metadata": {},
   "outputs": [],
   "source": [
    "# Define the MLflow storage path in Google Drive\n",
    "mlflow_storage_path = \"./files/mlflow_results\"\n",
    "\n",
    "# Set MLflow to log to the Google Drive directory\n",
    "mlflow.set_tracking_uri(f\"file:{mlflow_storage_path}\")"
   ]
  },
  {
   "cell_type": "code",
   "execution_count": 35,
   "id": "e553f71f",
   "metadata": {},
   "outputs": [
    {
     "data": {
      "text/plain": [
       "<Experiment: artifact_location='file:///Users/laurapeters/Desktop/VS-Time-series-Projekt/notebooks/files/mlflow_results/823126783632742089', creation_time=1757000087169, experiment_id='823126783632742089', last_update_time=1757000087169, lifecycle_stage='active', name='XGB_vs_XGB_Hyperparam', tags={}>"
      ]
     },
     "execution_count": 35,
     "metadata": {},
     "output_type": "execute_result"
    }
   ],
   "source": [
    "# Set up experiment name\n",
    "mlflow.set_experiment(\"XGB_vs_XGB_Hyperparam\")   # creates it once, reuses it next time"
   ]
  },
  {
   "cell_type": "markdown",
   "id": "8fb481d5",
   "metadata": {},
   "source": [
    "# Start MLFlow UI"
   ]
  },
  {
   "cell_type": "code",
   "execution_count": 36,
   "id": "48f33777",
   "metadata": {},
   "outputs": [
    {
     "data": {
      "text/plain": [
       "<Popen: returncode: None args: ['mlflow', 'ui', '--backend-store-uri', './fi...>"
      ]
     },
     "execution_count": 36,
     "metadata": {},
     "output_type": "execute_result"
    }
   ],
   "source": [
    "# Launch MLflow UI on port 5000\n",
    "subprocess.Popen([\"mlflow\", \"ui\", \"--backend-store-uri\", mlflow_storage_path])"
   ]
  },
  {
   "cell_type": "code",
   "execution_count": 37,
   "id": "d471050d",
   "metadata": {},
   "outputs": [
    {
     "data": {
      "text/plain": [
       "'print(\"Enter your authtoken, which can be copied from https://dashboard.ngrok.com/get-started/your-authtoken\")\\nconf.get_default().auth_token = \"32CUtezl2L77vuYQQo6Gqt9M5ih_3KPUDPugApg6QPqySKF18\"\\nport=5000\\npublic_url = ngrok.connect(port).public_url\\nprint(f\\' * ngrok tunnel (ULR for MLFLow UI) \"{public_url}\" \\')'"
      ]
     },
     "execution_count": 37,
     "metadata": {},
     "output_type": "execute_result"
    }
   ],
   "source": [
    "'''print(\"Enter your authtoken, which can be copied from https://dashboard.ngrok.com/get-started/your-authtoken\")\n",
    "conf.get_default().auth_token = \"32CUtezl2L77vuYQQo6Gqt9M5ih_3KPUDPugApg6QPqySKF18\"\n",
    "port=5000\n",
    "public_url = ngrok.connect(port).public_url\n",
    "print(f' * ngrok tunnel (ULR for MLFLow UI) \\\"{public_url}\\\" ')'''"
   ]
  },
  {
   "cell_type": "code",
   "execution_count": 38,
   "id": "fa5655a4",
   "metadata": {},
   "outputs": [
    {
     "name": "stdout",
     "output_type": "stream",
     "text": [
      "        date        id  store_nbr  item_nbr  unit_sales  onpromotion  \\\n",
      "0 2014-02-21  19281571         24    103520         2.0        False   \n",
      "1 2014-02-22  19331514         24    103520         8.0        False   \n",
      "2 2014-02-23  19382503         24    103520         3.0        False   \n",
      "3 2014-02-24  19432532         24    103520         1.0        False   \n",
      "4 2014-02-25  19481433         24    103520         6.0        False   \n",
      "\n",
      "   is_outlier  year  month  day  ...  holiday_transferred transactions  lag_7  \\\n",
      "0       False  2014      2   21  ...                    0       2455.0   10.0   \n",
      "1       False  2014      2   22  ...                    0       2291.0   10.0   \n",
      "2       False  2014      2   23  ...                    0       1419.0    8.0   \n",
      "3       False  2014      2   24  ...                    0       2247.0    4.0   \n",
      "4       False  2014      2   25  ...                    0       2192.0    2.0   \n",
      "\n",
      "   lag_30  lag_364 rolling_7d_std rolling_30d_std rolling_7d_mean  \\\n",
      "0     3.0      6.0       6.658328        9.693522        9.000000   \n",
      "1     3.0     16.0       2.751623        2.725992        5.714286   \n",
      "2     4.0      7.0      18.442962       14.250791       22.142857   \n",
      "3     5.0      1.0       3.716117        2.725782        4.857143   \n",
      "4     4.0      2.0      11.338934       11.418074       31.714286   \n",
      "\n",
      "   rolling_30d_mean is_weekend  \n",
      "0         11.633333          0  \n",
      "1          6.500000          1  \n",
      "2         23.133333          1  \n",
      "3          4.466667          0  \n",
      "4         32.800000          0  \n",
      "\n",
      "[5 rows x 33 columns]\n"
     ]
    }
   ],
   "source": [
    "df_train_ML_ready = pd.read_parquet(\"/Users/laurapeters/Desktop/VS-Time-series-Projekt/files/df_train_ML_ready.parquet\")\n",
    "\n",
    "# Optional: kurz prüfen\n",
    "print(df_train_ML_ready.head())"
   ]
  },
  {
   "cell_type": "markdown",
   "id": "78ee0ddb",
   "metadata": {},
   "source": [
    "# Target // Features definieren"
   ]
  },
  {
   "cell_type": "code",
   "execution_count": 39,
   "id": "bf949bda",
   "metadata": {},
   "outputs": [
    {
     "name": "stderr",
     "output_type": "stream",
     "text": [
      "ERROR:    [Errno 48] Address already in use\n"
     ]
    },
    {
     "name": "stderr",
     "output_type": "stream",
     "text": [
      "Running the mlflow server failed. Please see the logs above for details.\n"
     ]
    }
   ],
   "source": [
    "max_date = '2015-01-01'\n",
    "df_train_ML_ready = df_train_ML_ready[(df_train_ML_ready['date'] < max_date)]\n",
    "\n",
    "split_date = '2014-10-01'\n",
    "train = df_train_ML_ready[df_train_ML_ready['date'] < split_date]\n",
    "test = df_train_ML_ready[df_train_ML_ready['date'] > split_date]\n"
   ]
  },
  {
   "cell_type": "code",
   "execution_count": 40,
   "id": "5b9f2c24",
   "metadata": {},
   "outputs": [],
   "source": [
    "# Define target variable (unit_sales) and features\n",
    "X = df_train_ML_ready[['onpromotion',\n",
    "       'is_outlier', 'year', 'month', 'day', 'day_of_week', 'family',\n",
    "       'item_class', 'dcoilwtico', 'city', 'state', 'store_type',\n",
    "       'sim_store_cluster', 'holiday_type', 'holiday_transferred',\n",
    "       'transactions', 'lag_7', 'lag_30', 'lag_364',\n",
    "       'rolling_7d_std', 'rolling_30d_std', 'rolling_7d_mean',\n",
    "       'rolling_30d_mean', 'is_weekend']]\n",
    "y = df_train_ML_ready['unit_sales']\n",
    "\n"
   ]
  },
  {
   "cell_type": "markdown",
   "id": "e8b97b16",
   "metadata": {},
   "source": [
    "# Train Test Split"
   ]
  },
  {
   "cell_type": "code",
   "execution_count": 41,
   "id": "d073ee5c",
   "metadata": {},
   "outputs": [
    {
     "name": "stdout",
     "output_type": "stream",
     "text": [
      "Train: (983860, 24) (983860,)\n",
      "Test: (245965, 24) (245965,)\n"
     ]
    }
   ],
   "source": [
    "# Split the data into training and testing sets (80% training, 20% testing)\n",
    "X_train, X_test, y_train, y_test = train_test_split(X, y, test_size=0.2, shuffle=False)\n",
    "\n",
    "print(\"Train:\", X_train.shape, y_train.shape)\n",
    "print(\"Test:\",  X_test.shape, y_test.shape)\n"
   ]
  },
  {
   "cell_type": "markdown",
   "id": "cd54d560",
   "metadata": {},
   "source": [
    "# Encoding"
   ]
  },
  {
   "cell_type": "markdown",
   "id": "d039bb94",
   "metadata": {},
   "source": [
    "## One Hot Encoding"
   ]
  },
  {
   "cell_type": "code",
   "execution_count": 42,
   "id": "0313d262",
   "metadata": {},
   "outputs": [],
   "source": [
    "# Kategoriale Spalten\n",
    "X_cat = ['city', 'state', 'store_type', 'sim_store_cluster', \n",
    "         'holiday_type', 'holiday_transferred', 'family']\n",
    "\n",
    "for col in X_cat:\n",
    "    X_train[col] = X_train[col].astype(str)\n",
    "    X_test[col] = X_test[col].astype(str)\n",
    "    \n",
    "# Encoder initialisieren\n",
    "ohe = OneHotEncoder(drop='first', sparse_output=False, handle_unknown='ignore')\n",
    "\n",
    "# Fit + Transform auf Trainingsdaten\n",
    "X_train_ohe = pd.DataFrame(\n",
    "    ohe.fit_transform(X_train[X_cat]),\n",
    "    columns=ohe.get_feature_names_out(X_cat),\n",
    "    index=X_train.index\n",
    ")\n",
    "\n",
    "# Alte Spalten entfernen und OHE-Spalten anhängen\n",
    "X_train = pd.concat([X_train.drop(columns=X_cat), X_train_ohe], axis=1)\n"
   ]
  },
  {
   "cell_type": "code",
   "execution_count": 43,
   "id": "bdf2e37c",
   "metadata": {},
   "outputs": [
    {
     "name": "stderr",
     "output_type": "stream",
     "text": [
      "/Library/Frameworks/Python.framework/Versions/3.11/lib/python3.11/site-packages/sklearn/preprocessing/_encoders.py:246: UserWarning: Found unknown categories in columns [2, 3] during transform. These unknown categories will be encoded as all zeros\n",
      "  warnings.warn(\n"
     ]
    }
   ],
   "source": [
    "X_test_ohe = pd.DataFrame(\n",
    "    ohe.transform(X_test[X_cat]),  # Achtung: transform, nicht fit_transform\n",
    "    columns=ohe.get_feature_names_out(X_cat),\n",
    "    index=X_test.index\n",
    ")\n",
    "\n",
    "X_test = pd.concat([X_test.drop(columns=X_cat), X_test_ohe], axis=1)\n"
   ]
  },
  {
   "cell_type": "markdown",
   "id": "b56b9df5",
   "metadata": {},
   "source": [
    "## Min/Max-Scaler "
   ]
  },
  {
   "cell_type": "code",
   "execution_count": 44,
   "id": "737593d8",
   "metadata": {},
   "outputs": [],
   "source": [
    "X_num = ['dcoilwtico','transactions',  'lag_7', 'lag_30', 'lag_364', 'rolling_7d_std',\n",
    "         'rolling_30d_std', 'rolling_7d_mean', 'rolling_30d_mean']\n",
    "\n",
    "scaler = MinMaxScaler()\n",
    "\n",
    "X_train[X_num] = scaler.fit_transform(X_train[X_num])"
   ]
  },
  {
   "cell_type": "code",
   "execution_count": 45,
   "id": "5015c995",
   "metadata": {},
   "outputs": [],
   "source": [
    "X_test[X_num] = scaler.transform(X_test[X_num])\n"
   ]
  },
  {
   "cell_type": "code",
   "execution_count": 46,
   "id": "aa2086e0",
   "metadata": {},
   "outputs": [
    {
     "data": {
      "text/plain": [
       "'\\n# Training\\ny_train_log = np.log1p(y_train)  # log(1 + y)\\nfinal_model.fit(X_train, y_train_log)\\n\\n# Vorhersage\\ny_pred_log = final_model.predict(X_test)\\ny_pred = np.expm1(y_pred_log)  # Rücktransformation\\n'"
      ]
     },
     "execution_count": 46,
     "metadata": {},
     "output_type": "execute_result"
    }
   ],
   "source": [
    "'''\n",
    "# Training\n",
    "y_train_log = np.log1p(y_train)  # log(1 + y)\n",
    "final_model.fit(X_train, y_train_log)\n",
    "\n",
    "# Vorhersage\n",
    "y_pred_log = final_model.predict(X_test)\n",
    "y_pred = np.expm1(y_pred_log)  # Rücktransformation\n",
    "'''"
   ]
  },
  {
   "cell_type": "code",
   "execution_count": 47,
   "id": "66f9ec62",
   "metadata": {},
   "outputs": [],
   "source": [
    "bool_cols = X_train.select_dtypes(include='bool').columns\n",
    "X_train[bool_cols] = X_train[bool_cols].astype(int)\n",
    "X_test[bool_cols] = X_test[bool_cols].astype(int)"
   ]
  },
  {
   "cell_type": "markdown",
   "id": "a44a9ac0",
   "metadata": {},
   "source": [
    "# y log-Transformieren"
   ]
  },
  {
   "cell_type": "code",
   "execution_count": 48,
   "id": "b55df2c9",
   "metadata": {},
   "outputs": [
    {
     "data": {
      "image/png": "[encoded data removed]",
      "text/plain": [
       "<Figure size 1400x500 with 1 Axes>"
      ]
     },
     "metadata": {},
     "output_type": "display_data"
    }
   ],
   "source": [
    "plt.figure(figsize=(14,5))\n",
    "plt.plot(df_train_ML_ready.index, df_train_ML_ready['unit_sales'])\n",
    "plt.title('Unit Sales über die Zeit')\n",
    "plt.xlabel('Datum (Index)')\n",
    "plt.ylabel('Unit Sales')\n",
    "plt.show()"
   ]
  },
  {
   "cell_type": "code",
   "execution_count": 49,
   "id": "412e4276",
   "metadata": {},
   "outputs": [],
   "source": [
    "y_train_log = np.log1p(y_train)\n",
    "y_test_log = np.log1p(y_test)"
   ]
  },
  {
   "cell_type": "code",
   "execution_count": 50,
   "id": "3c06131e",
   "metadata": {},
   "outputs": [
    {
     "data": {
      "text/plain": [
       "0"
      ]
     },
     "execution_count": 50,
     "metadata": {},
     "output_type": "execute_result"
    }
   ],
   "source": [
    "y_test_log.isnull().sum()"
   ]
  },
  {
   "cell_type": "code",
   "execution_count": 51,
   "id": "98fcf365",
   "metadata": {},
   "outputs": [],
   "source": [
    "#Lets compare the metrics we studied in this lecture. We will include MAE as its the one we already saw\n",
    "# MAE, Bias, Mean Absolute Deviation (MAD), Relative Mean Absolute Deviation (rMAD), Mean absolute percentage error (MAPE), Root Mean Square Error (RMSE).\n",
    "import numpy as np\n",
    "\n",
    "def forecast_metrics(y_true, y_pred):\n",
    "    \"\"\"\n",
    "    Compute a common set of forecast-error statistics.\n",
    "\n",
    "    Parameters\n",
    "    ----------\n",
    "    y_true : 1-D array-like\n",
    "        Actual (ground-truth) values.\n",
    "    y_pred : 1-D array-like\n",
    "        Forecasted values.\n",
    "\n",
    "    Returns\n",
    "    -------\n",
    "    dict\n",
    "        Keys: 'MAE', 'Bias', 'MAD', 'rMAD', 'MAPE', 'RMSE'\n",
    "    \"\"\"\n",
    "    y_true = np.asarray(y_true, dtype=float).flatten()\n",
    "    y_pred = np.asarray(y_pred, dtype=float).flatten()\n",
    "\n",
    "    # basic errors\n",
    "    errors       = y_true - y_pred\n",
    "    abs_errors   = np.abs(errors)\n",
    "    pct_errors   = abs_errors / np.where(y_true == 0, np.nan, y_true)   # avoid ÷0\n",
    "\n",
    "    # core statistics\n",
    "    mae   = abs_errors.mean()\n",
    "    bias  = errors.mean()\n",
    "    rmse  = np.sqrt((errors ** 2).mean())\n",
    "\n",
    "    # MAD of the ACTUAL series (dispersion of demand itself)\n",
    "    mad   = np.abs(y_true - y_true.mean()).mean()\n",
    "\n",
    "    # Relative MAD = MAE divided by MAD  (how big the forecast error is vs. “typical” variation)\n",
    "    rmad  = mae / mad if mad else np.nan\n",
    "\n",
    "    # Mean Absolute Percentage Error\n",
    "    mape  = np.nanmean(pct_errors) * 100   # expressed in %\n",
    "\n",
    "    return {\n",
    "        \"MAE\" : mae,\n",
    "        \"Bias\": bias,\n",
    "        \"MAD\" : mad,\n",
    "        \"rMAD\": rmad,\n",
    "        \"MAPE\": mape,\n",
    "        \"RMSE\": rmse\n",
    "    }\n"
   ]
  },
  {
   "cell_type": "code",
   "execution_count": 52,
   "id": "87a2e7ff",
   "metadata": {},
   "outputs": [],
   "source": [
    "# ---- quick plot saver\n",
    "def save_forecast_plot(y_true, y_pred, path, title=\"Forecast vs Actual\"):\n",
    "    plt.figure(figsize=(10,4))\n",
    "    plt.plot(y_true, label=\"Actual\", lw=2)\n",
    "    plt.plot(y_pred, label=\"Predicted\", lw=2)\n",
    "    plt.title(title)\n",
    "    plt.legend(); plt.tight_layout(); plt.savefig(path); plt.close()\n",
    "\n",
    "# ---- one-stop logger for a single candidate\n",
    "def log_candidate(run_name, params, y_true, y_pred, fig_name, model=None):\n",
    "    with mlflow.start_run(run_name=run_name, nested=True):\n",
    "        mlflow.log_params(params)\n",
    "        mlflow.log_metrics(forecast_metrics(y_true, y_pred))\n",
    "        save_forecast_plot(y_true, y_pred, fig_name, title=run_name)\n",
    "        mlflow.log_artifact(fig_name)\n",
    "\n",
    "        if model is None:\n",
    "            return\n",
    "        elif isinstance(model, XGBModel):  # covers XGBRegressor/Classifier\n",
    "            mlflow.xgboost.log_model(model, name=\"model\")\n",
    "        else:\n",
    "            # fallback: skip or raise\n",
    "            pass"
   ]
  },
  {
   "cell_type": "markdown",
   "id": "e6c343bf",
   "metadata": {},
   "source": [
    "# LSTM"
   ]
  },
  {
   "cell_type": "code",
   "execution_count": 53,
   "id": "62409721",
   "metadata": {},
   "outputs": [
    {
     "name": "stderr",
     "output_type": "stream",
     "text": [
      "/var/folders/kc/4_58vml5169c4h_nkcgknsy80000gn/T/ipykernel_19855/3766675945.py:14: FutureWarning: DataFrame.fillna with 'method' is deprecated and will raise in a future version. Use obj.ffill() or obj.bfill() instead.\n",
      "  df_lstm = df_lstm.fillna(method='ffill').fillna(0)\n"
     ]
    },
    {
     "name": "stdout",
     "output_type": "stream",
     "text": [
      "Data shape: (1229825, 18)\n",
      "Train samples: 983860, Test samples: 245965\n",
      "Scaled train shape: (983860, 18)\n",
      "Scaled test shape: (245965, 18)\n",
      "X_train shape: (983845, 15, 18)\n",
      "y_train shape: (983845,)\n",
      "X_test shape: (245950, 15, 18)\n",
      "y_test shape: (245950,)\n",
      "Number of features: 18\n"
     ]
    },
    {
     "name": "stderr",
     "output_type": "stream",
     "text": [
      "/Library/Frameworks/Python.framework/Versions/3.11/lib/python3.11/site-packages/keras/src/layers/rnn/rnn.py:199: UserWarning: Do not pass an `input_shape`/`input_dim` argument to a layer. When using Sequential models, prefer using an `Input(shape)` object as the first layer in the model instead.\n",
      "  super().__init__(**kwargs)\n"
     ]
    },
    {
     "data": {
      "text/html": [
       "<pre style=\"white-space:pre;overflow-x:auto;line-height:normal;font-family:Menlo,'DejaVu Sans Mono',consolas,'Courier New',monospace\"><span style=\"font-weight: bold\">Model: \"sequential\"</span>\n",
       "</pre>\n"
      ],
      "text/plain": [
       "\u001b[1mModel: \"sequential\"\u001b[0m\n"
      ]
     },
     "metadata": {},
     "output_type": "display_data"
    },
    {
     "data": {
      "text/html": [
       "<pre style=\"white-space:pre;overflow-x:auto;line-height:normal;font-family:Menlo,'DejaVu Sans Mono',consolas,'Courier New',monospace\">┏━━━━━━━━━━━━━━━━━━━━━━━━━━━━━━━━━┳━━━━━━━━━━━━━━━━━━━━━━━━┳━━━━━━━━━━━━━━━┓\n",
       "┃<span style=\"font-weight: bold\"> Layer (type)                    </span>┃<span style=\"font-weight: bold\"> Output Shape           </span>┃<span style=\"font-weight: bold\">       Param # </span>┃\n",
       "┡━━━━━━━━━━━━━━━━━━━━━━━━━━━━━━━━━╇━━━━━━━━━━━━━━━━━━━━━━━━╇━━━━━━━━━━━━━━━┩\n",
       "│ lstm (<span style=\"color: #0087ff; text-decoration-color: #0087ff\">LSTM</span>)                     │ (<span style=\"color: #00d7ff; text-decoration-color: #00d7ff\">None</span>, <span style=\"color: #00af00; text-decoration-color: #00af00\">32</span>)             │         <span style=\"color: #00af00; text-decoration-color: #00af00\">6,528</span> │\n",
       "├─────────────────────────────────┼────────────────────────┼───────────────┤\n",
       "│ dropout (<span style=\"color: #0087ff; text-decoration-color: #0087ff\">Dropout</span>)               │ (<span style=\"color: #00d7ff; text-decoration-color: #00d7ff\">None</span>, <span style=\"color: #00af00; text-decoration-color: #00af00\">32</span>)             │             <span style=\"color: #00af00; text-decoration-color: #00af00\">0</span> │\n",
       "├─────────────────────────────────┼────────────────────────┼───────────────┤\n",
       "│ dense (<span style=\"color: #0087ff; text-decoration-color: #0087ff\">Dense</span>)                   │ (<span style=\"color: #00d7ff; text-decoration-color: #00d7ff\">None</span>, <span style=\"color: #00af00; text-decoration-color: #00af00\">16</span>)             │           <span style=\"color: #00af00; text-decoration-color: #00af00\">528</span> │\n",
       "├─────────────────────────────────┼────────────────────────┼───────────────┤\n",
       "│ dropout_1 (<span style=\"color: #0087ff; text-decoration-color: #0087ff\">Dropout</span>)             │ (<span style=\"color: #00d7ff; text-decoration-color: #00d7ff\">None</span>, <span style=\"color: #00af00; text-decoration-color: #00af00\">16</span>)             │             <span style=\"color: #00af00; text-decoration-color: #00af00\">0</span> │\n",
       "├─────────────────────────────────┼────────────────────────┼───────────────┤\n",
       "│ dense_1 (<span style=\"color: #0087ff; text-decoration-color: #0087ff\">Dense</span>)                 │ (<span style=\"color: #00d7ff; text-decoration-color: #00d7ff\">None</span>, <span style=\"color: #00af00; text-decoration-color: #00af00\">1</span>)              │            <span style=\"color: #00af00; text-decoration-color: #00af00\">17</span> │\n",
       "└─────────────────────────────────┴────────────────────────┴───────────────┘\n",
       "</pre>\n"
      ],
      "text/plain": [
       "┏━━━━━━━━━━━━━━━━━━━━━━━━━━━━━━━━━┳━━━━━━━━━━━━━━━━━━━━━━━━┳━━━━━━━━━━━━━━━┓\n",
       "┃\u001b[1m \u001b[0m\u001b[1mLayer (type)                   \u001b[0m\u001b[1m \u001b[0m┃\u001b[1m \u001b[0m\u001b[1mOutput Shape          \u001b[0m\u001b[1m \u001b[0m┃\u001b[1m \u001b[0m\u001b[1m      Param #\u001b[0m\u001b[1m \u001b[0m┃\n",
       "┡━━━━━━━━━━━━━━━━━━━━━━━━━━━━━━━━━╇━━━━━━━━━━━━━━━━━━━━━━━━╇━━━━━━━━━━━━━━━┩\n",
       "│ lstm (\u001b[38;5;33mLSTM\u001b[0m)                     │ (\u001b[38;5;45mNone\u001b[0m, \u001b[38;5;34m32\u001b[0m)             │         \u001b[38;5;34m6,528\u001b[0m │\n",
       "├─────────────────────────────────┼────────────────────────┼───────────────┤\n",
       "│ dropout (\u001b[38;5;33mDropout\u001b[0m)               │ (\u001b[38;5;45mNone\u001b[0m, \u001b[38;5;34m32\u001b[0m)             │             \u001b[38;5;34m0\u001b[0m │\n",
       "├─────────────────────────────────┼────────────────────────┼───────────────┤\n",
       "│ dense (\u001b[38;5;33mDense\u001b[0m)                   │ (\u001b[38;5;45mNone\u001b[0m, \u001b[38;5;34m16\u001b[0m)             │           \u001b[38;5;34m528\u001b[0m │\n",
       "├─────────────────────────────────┼────────────────────────┼───────────────┤\n",
       "│ dropout_1 (\u001b[38;5;33mDropout\u001b[0m)             │ (\u001b[38;5;45mNone\u001b[0m, \u001b[38;5;34m16\u001b[0m)             │             \u001b[38;5;34m0\u001b[0m │\n",
       "├─────────────────────────────────┼────────────────────────┼───────────────┤\n",
       "│ dense_1 (\u001b[38;5;33mDense\u001b[0m)                 │ (\u001b[38;5;45mNone\u001b[0m, \u001b[38;5;34m1\u001b[0m)              │            \u001b[38;5;34m17\u001b[0m │\n",
       "└─────────────────────────────────┴────────────────────────┴───────────────┘\n"
      ]
     },
     "metadata": {},
     "output_type": "display_data"
    },
    {
     "data": {
      "text/html": [
       "<pre style=\"white-space:pre;overflow-x:auto;line-height:normal;font-family:Menlo,'DejaVu Sans Mono',consolas,'Courier New',monospace\"><span style=\"font-weight: bold\"> Total params: </span><span style=\"color: #00af00; text-decoration-color: #00af00\">7,073</span> (27.63 KB)\n",
       "</pre>\n"
      ],
      "text/plain": [
       "\u001b[1m Total params: \u001b[0m\u001b[38;5;34m7,073\u001b[0m (27.63 KB)\n"
      ]
     },
     "metadata": {},
     "output_type": "display_data"
    },
    {
     "data": {
      "text/html": [
       "<pre style=\"white-space:pre;overflow-x:auto;line-height:normal;font-family:Menlo,'DejaVu Sans Mono',consolas,'Courier New',monospace\"><span style=\"font-weight: bold\"> Trainable params: </span><span style=\"color: #00af00; text-decoration-color: #00af00\">7,073</span> (27.63 KB)\n",
       "</pre>\n"
      ],
      "text/plain": [
       "\u001b[1m Trainable params: \u001b[0m\u001b[38;5;34m7,073\u001b[0m (27.63 KB)\n"
      ]
     },
     "metadata": {},
     "output_type": "display_data"
    },
    {
     "data": {
      "text/html": [
       "<pre style=\"white-space:pre;overflow-x:auto;line-height:normal;font-family:Menlo,'DejaVu Sans Mono',consolas,'Courier New',monospace\"><span style=\"font-weight: bold\"> Non-trainable params: </span><span style=\"color: #00af00; text-decoration-color: #00af00\">0</span> (0.00 B)\n",
       "</pre>\n"
      ],
      "text/plain": [
       "\u001b[1m Non-trainable params: \u001b[0m\u001b[38;5;34m0\u001b[0m (0.00 B)\n"
      ]
     },
     "metadata": {},
     "output_type": "display_data"
    },
    {
     "name": "stdout",
     "output_type": "stream",
     "text": [
      "Training LSTM...\n",
      "Epoch 1/20\n",
      "\u001b[1m15373/15373\u001b[0m \u001b[32m━━━━━━━━━━━━━━━━━━━━\u001b[0m\u001b[37m\u001b[0m \u001b[1m44s\u001b[0m 3ms/step - loss: 9.2125e-05 - mae: 0.0031 - val_loss: 7.1687e-06 - val_mae: 0.0014\n",
      "Epoch 2/20\n",
      "\u001b[1m15373/15373\u001b[0m \u001b[32m━━━━━━━━━━━━━━━━━━━━\u001b[0m\u001b[37m\u001b[0m \u001b[1m50s\u001b[0m 3ms/step - loss: 1.3908e-05 - mae: 0.0011 - val_loss: 6.6676e-06 - val_mae: 0.0013\n",
      "Epoch 3/20\n",
      "\u001b[1m15373/15373\u001b[0m \u001b[32m━━━━━━━━━━━━━━━━━━━━\u001b[0m\u001b[37m\u001b[0m \u001b[1m62s\u001b[0m 4ms/step - loss: 1.3721e-05 - mae: 0.0011 - val_loss: 6.5001e-06 - val_mae: 0.0013\n",
      "Epoch 4/20\n",
      "\u001b[1m15373/15373\u001b[0m \u001b[32m━━━━━━━━━━━━━━━━━━━━\u001b[0m\u001b[37m\u001b[0m \u001b[1m53s\u001b[0m 3ms/step - loss: 1.3587e-05 - mae: 0.0010 - val_loss: 6.4664e-06 - val_mae: 0.0013\n",
      "Epoch 5/20\n",
      "\u001b[1m15373/15373\u001b[0m \u001b[32m━━━━━━━━━━━━━━━━━━━━\u001b[0m\u001b[37m\u001b[0m \u001b[1m50s\u001b[0m 3ms/step - loss: 1.3482e-05 - mae: 0.0010 - val_loss: 6.3878e-06 - val_mae: 0.0013\n",
      "Epoch 6/20\n",
      "\u001b[1m15373/15373\u001b[0m \u001b[32m━━━━━━━━━━━━━━━━━━━━\u001b[0m\u001b[37m\u001b[0m \u001b[1m48s\u001b[0m 3ms/step - loss: 1.3383e-05 - mae: 0.0010 - val_loss: 6.3507e-06 - val_mae: 0.0013\n",
      "Epoch 7/20\n",
      "\u001b[1m15373/15373\u001b[0m \u001b[32m━━━━━━━━━━━━━━━━━━━━\u001b[0m\u001b[37m\u001b[0m \u001b[1m49s\u001b[0m 3ms/step - loss: 1.3359e-05 - mae: 0.0010 - val_loss: 6.3187e-06 - val_mae: 0.0013\n",
      "Epoch 8/20\n",
      "\u001b[1m15373/15373\u001b[0m \u001b[32m━━━━━━━━━━━━━━━━━━━━\u001b[0m\u001b[37m\u001b[0m \u001b[1m48s\u001b[0m 3ms/step - loss: 1.3295e-05 - mae: 0.0010 - val_loss: 6.3017e-06 - val_mae: 0.0013\n",
      "Epoch 9/20\n",
      "\u001b[1m15373/15373\u001b[0m \u001b[32m━━━━━━━━━━━━━━━━━━━━\u001b[0m\u001b[37m\u001b[0m \u001b[1m50s\u001b[0m 3ms/step - loss: 1.3251e-05 - mae: 0.0010 - val_loss: 6.3307e-06 - val_mae: 0.0013\n",
      "Epoch 10/20\n",
      "\u001b[1m15373/15373\u001b[0m \u001b[32m━━━━━━━━━━━━━━━━━━━━\u001b[0m\u001b[37m\u001b[0m \u001b[1m52s\u001b[0m 3ms/step - loss: 1.3213e-05 - mae: 0.0010 - val_loss: 6.2564e-06 - val_mae: 0.0012\n",
      "Epoch 11/20\n",
      "\u001b[1m15373/15373\u001b[0m \u001b[32m━━━━━━━━━━━━━━━━━━━━\u001b[0m\u001b[37m\u001b[0m \u001b[1m50s\u001b[0m 3ms/step - loss: 1.3232e-05 - mae: 0.0010 - val_loss: 6.2862e-06 - val_mae: 0.0012\n",
      "Epoch 12/20\n",
      "\u001b[1m15373/15373\u001b[0m \u001b[32m━━━━━━━━━━━━━━━━━━━━\u001b[0m\u001b[37m\u001b[0m \u001b[1m50s\u001b[0m 3ms/step - loss: 1.3158e-05 - mae: 0.0010 - val_loss: 6.2111e-06 - val_mae: 0.0012\n",
      "Epoch 13/20\n",
      "\u001b[1m15373/15373\u001b[0m \u001b[32m━━━━━━━━━━━━━━━━━━━━\u001b[0m\u001b[37m\u001b[0m \u001b[1m56s\u001b[0m 4ms/step - loss: 1.3140e-05 - mae: 9.9992e-04 - val_loss: 6.3411e-06 - val_mae: 0.0012\n",
      "Epoch 14/20\n",
      "\u001b[1m15373/15373\u001b[0m \u001b[32m━━━━━━━━━━━━━━━━━━━━\u001b[0m\u001b[37m\u001b[0m \u001b[1m52s\u001b[0m 3ms/step - loss: 1.3142e-05 - mae: 9.9763e-04 - val_loss: 6.2456e-06 - val_mae: 0.0012\n",
      "Epoch 15/20\n",
      "\u001b[1m15373/15373\u001b[0m \u001b[32m━━━━━━━━━━━━━━━━━━━━\u001b[0m\u001b[37m\u001b[0m \u001b[1m54s\u001b[0m 3ms/step - loss: 1.3094e-05 - mae: 9.9643e-04 - val_loss: 6.1633e-06 - val_mae: 0.0012\n",
      "Epoch 16/20\n",
      "\u001b[1m15373/15373\u001b[0m \u001b[32m━━━━━━━━━━━━━━━━━━━━\u001b[0m\u001b[37m\u001b[0m \u001b[1m54s\u001b[0m 4ms/step - loss: 1.3090e-05 - mae: 9.9473e-04 - val_loss: 6.1822e-06 - val_mae: 0.0012\n",
      "Epoch 17/20\n",
      "\u001b[1m15373/15373\u001b[0m \u001b[32m━━━━━━━━━━━━━━━━━━━━\u001b[0m\u001b[37m\u001b[0m \u001b[1m58s\u001b[0m 4ms/step - loss: 1.3083e-05 - mae: 9.9063e-04 - val_loss: 6.1928e-06 - val_mae: 0.0012\n",
      "Epoch 18/20\n",
      "\u001b[1m15373/15373\u001b[0m \u001b[32m━━━━━━━━━━━━━━━━━━━━\u001b[0m\u001b[37m\u001b[0m \u001b[1m61s\u001b[0m 4ms/step - loss: 1.3063e-05 - mae: 9.9245e-04 - val_loss: 6.2246e-06 - val_mae: 0.0012\n",
      "Epoch 19/20\n",
      "\u001b[1m15373/15373\u001b[0m \u001b[32m━━━━━━━━━━━━━━━━━━━━\u001b[0m\u001b[37m\u001b[0m \u001b[1m54s\u001b[0m 4ms/step - loss: 1.3037e-05 - mae: 9.8863e-04 - val_loss: 6.1698e-06 - val_mae: 0.0012\n",
      "Epoch 20/20\n",
      "\u001b[1m15373/15373\u001b[0m \u001b[32m━━━━━━━━━━━━━━━━━━━━\u001b[0m\u001b[37m\u001b[0m \u001b[1m56s\u001b[0m 4ms/step - loss: 1.3018e-05 - mae: 9.8908e-04 - val_loss: 6.1383e-06 - val_mae: 0.0012\n",
      "Making predictions...\n",
      "\u001b[1m15373/15373\u001b[0m \u001b[32m━━━━━━━━━━━━━━━━━━━━\u001b[0m\u001b[37m\u001b[0m \u001b[1m19s\u001b[0m 1ms/step\n",
      "\u001b[1m3843/3843\u001b[0m \u001b[32m━━━━━━━━━━━━━━━━━━━━\u001b[0m\u001b[37m\u001b[0m \u001b[1m5s\u001b[0m 1ms/step\n",
      "\n",
      "=== LSTM Results ===\n",
      "Train MAE: 4.44\n",
      "Test MAE: 5.56\n",
      "Train RMSE: 16.23\n",
      "Test RMSE: 11.33\n"
     ]
    },
    {
     "data": {
      "image/png": "[encoded data removed]",
      "text/plain": [
       "<Figure size 1000x400 with 1 Axes>"
      ]
     },
     "metadata": {},
     "output_type": "display_data"
    },
    {
     "name": "stdout",
     "output_type": "stream",
     "text": [
      "\n",
      "LSTM Training completed!\n",
      "Sequence Length: 15\n",
      "Features used: 18\n"
     ]
    }
   ],
   "source": [
    "# Nur numerische Spalten für LSTM verwenden (kategoriale sind schwierig für sequences)\n",
    "numerical_cols = [\n",
    "    'unit_sales', 'onpromotion', 'is_outlier', 'year', 'month', 'day', \n",
    "    'day_of_week', 'item_class', 'dcoilwtico', 'transactions', \n",
    "    'lag_7', 'lag_30', 'lag_364', 'rolling_7d_std', 'rolling_30d_std',\n",
    "    'rolling_7d_mean', 'rolling_30d_mean', 'is_weekend'\n",
    "]\n",
    "\n",
    "# Daten sortieren nach Datum (wichtig für Zeitreihen!)\n",
    "df_lstm = df_train_ML_ready[numerical_cols].copy()\n",
    "df_lstm = df_lstm.sort_index()  # Annahme: Index ist bereits das Datum\n",
    "\n",
    "# NaN-Werte füllen\n",
    "df_lstm = df_lstm.fillna(method='ffill').fillna(0)\n",
    "\n",
    "values = df_lstm.values\n",
    "print(f\"Data shape: {values.shape}\")\n",
    "\n",
    "# Calendar split and scaling\n",
    "cut = int(len(values) * 0.8)\n",
    "print(f\"Train samples: {cut}, Test samples: {len(values) - cut}\")\n",
    "\n",
    "# Scaler nur auf Training-Daten fitten\n",
    "scaler = MinMaxScaler()\n",
    "train_scaled = scaler.fit_transform(values[:cut])\n",
    "test_scaled = scaler.transform(values[cut:])\n",
    "\n",
    "print(f\"Scaled train shape: {train_scaled.shape}\")\n",
    "print(f\"Scaled test shape: {test_scaled.shape}\")\n",
    "\n",
    "# Make sliding windows - ANGEPASST\n",
    "SEQ_LEN = 15  # Kürzer für schnelleres Training\n",
    "TARGET_COL = 0  # unit_sales ist die erste Spalte\n",
    "\n",
    "def make_sequences(arr, seq_len, target_col=0):\n",
    "    \"\"\"Erstellt Sequenzen für LSTM\"\"\"\n",
    "    X, y = [], []\n",
    "    for i in range(len(arr) - seq_len):\n",
    "        # X: seq_len Zeitschritte mit allen Features\n",
    "        X.append(arr[i : i + seq_len, :])  \n",
    "        # y: nächster unit_sales Wert\n",
    "        y.append(arr[i + seq_len, target_col])  \n",
    "    return np.array(X), np.array(y)\n",
    "\n",
    "# Sequenzen erstellen\n",
    "X_train, y_train = make_sequences(train_scaled, SEQ_LEN, TARGET_COL)\n",
    "X_test, y_test = make_sequences(test_scaled, SEQ_LEN, TARGET_COL)\n",
    "\n",
    "print(f\"X_train shape: {X_train.shape}\")  # (samples, seq_len, features)\n",
    "print(f\"y_train shape: {y_train.shape}\")  # (samples,)\n",
    "print(f\"X_test shape: {X_test.shape}\")\n",
    "print(f\"y_test shape: {y_test.shape}\")\n",
    "\n",
    "# Build LSTM Model - VEREINFACHT für Speed\n",
    "def build_quick_lstm(seq_len, n_features):\n",
    "    \"\"\"Schnelles, einfaches LSTM\"\"\"\n",
    "    model = Sequential([\n",
    "        LSTM(32, return_sequences=False, input_shape=(seq_len, n_features)),\n",
    "        Dropout(0.2),\n",
    "        Dense(16),\n",
    "        Dropout(0.1),\n",
    "        Dense(1)\n",
    "    ])\n",
    "    \n",
    "    model.compile(optimizer='adam', loss='mse', metrics=['mae'])\n",
    "    return model\n",
    "\n",
    "# Model erstellen\n",
    "n_features = X_train.shape[2]\n",
    "print(f\"Number of features: {n_features}\")\n",
    "\n",
    "model = build_quick_lstm(SEQ_LEN, n_features)\n",
    "model.summary()\n",
    "\n",
    "# Training - MIT Early Stopping für Speed\n",
    "print(\"Training LSTM...\")\n",
    "\n",
    "early_stop = EarlyStopping(\n",
    "    monitor='val_loss',\n",
    "    patience=5,\n",
    "    restore_best_weights=True\n",
    ")\n",
    "\n",
    "history = model.fit(\n",
    "    X_train, y_train,\n",
    "    epochs=20,  # Weniger Epochen für Speed\n",
    "    batch_size=64,  # Größere Batches für Speed\n",
    "    validation_data=(X_test, y_test),\n",
    "    callbacks=[early_stop],\n",
    "    verbose=1\n",
    ")\n",
    "\n",
    "# Predictions & Evaluation\n",
    "print(\"Making predictions...\")\n",
    "\n",
    "# Vorhersagen\n",
    "train_pred = model.predict(X_train, batch_size=64)\n",
    "test_pred = model.predict(X_test, batch_size=64)\n",
    "\n",
    "# Rücktransformation der Vorhersagen\n",
    "# Dummy array für inverse transform (scaler braucht alle Features)\n",
    "def inverse_scale_target(scaled_values, original_scaler, target_col=0):\n",
    "    \"\"\"Rücktransformation nur für Target-Variable\"\"\"\n",
    "    dummy = np.zeros((len(scaled_values), original_scaler.n_features_in_))\n",
    "    dummy[:, target_col] = scaled_values.flatten()\n",
    "    inversed = original_scaler.inverse_transform(dummy)\n",
    "    return inversed[:, target_col]\n",
    "\n",
    "# Rücktransformation\n",
    "y_train_orig = inverse_scale_target(y_train.reshape(-1, 1), scaler, TARGET_COL)\n",
    "y_test_orig = inverse_scale_target(y_test.reshape(-1, 1), scaler, TARGET_COL)\n",
    "train_pred_orig = inverse_scale_target(train_pred, scaler, TARGET_COL)\n",
    "test_pred_orig = inverse_scale_target(test_pred, scaler, TARGET_COL)\n",
    "\n",
    "# Metriken berechnen\n",
    "from sklearn.metrics import mean_absolute_error, mean_squared_error\n",
    "\n",
    "train_mae = mean_absolute_error(y_train_orig, train_pred_orig)\n",
    "test_mae = mean_absolute_error(y_test_orig, test_pred_orig)\n",
    "train_rmse = np.sqrt(mean_squared_error(y_train_orig, train_pred_orig))\n",
    "test_rmse = np.sqrt(mean_squared_error(y_test_orig, test_pred_orig))\n",
    "\n",
    "print(f\"\\n=== LSTM Results ===\")\n",
    "print(f\"Train MAE: {train_mae:.2f}\")\n",
    "print(f\"Test MAE: {test_mae:.2f}\")\n",
    "print(f\"Train RMSE: {train_rmse:.2f}\")\n",
    "print(f\"Test RMSE: {test_rmse:.2f}\")\n",
    "\n",
    "# Quick Plot - nur erste 200 samples\n",
    "n_plot = min(200, len(y_test_orig))\n",
    "plt.figure(figsize=(10, 4))\n",
    "plt.plot(y_test_orig[:n_plot], label='Actual', alpha=0.7, linewidth=1)\n",
    "plt.plot(test_pred_orig[:n_plot], label='LSTM Predicted', alpha=0.7, linewidth=1)\n",
    "plt.title(f'LSTM: Actual vs Predicted (First {n_plot} samples)')\n",
    "plt.xlabel('Sample Index')\n",
    "plt.ylabel('Unit Sales')\n",
    "plt.legend()\n",
    "plt.tight_layout()\n",
    "plt.show()\n",
    "\n",
    "print(f\"\\nLSTM Training completed!\")\n",
    "print(f\"Sequence Length: {SEQ_LEN}\")\n",
    "print(f\"Features used: {n_features}\")"
   ]
  },
  {
   "cell_type": "code",
   "execution_count": 54,
   "id": "9eab5370",
   "metadata": {},
   "outputs": [
    {
     "name": "stderr",
     "output_type": "stream",
     "text": [
      "/Library/Frameworks/Python.framework/Versions/3.11/lib/python3.11/site-packages/keras/src/layers/rnn/rnn.py:199: UserWarning: Do not pass an `input_shape`/`input_dim` argument to a layer. When using Sequential models, prefer using an `Input(shape)` object as the first layer in the model instead.\n",
      "  super().__init__(**kwargs)\n"
     ]
    },
    {
     "name": "stdout",
     "output_type": "stream",
     "text": [
      "Epoch 1/20\n",
      "\u001b[1m15373/15373\u001b[0m \u001b[32m━━━━━━━━━━━━━━━━━━━━\u001b[0m\u001b[37m\u001b[0m \u001b[1m57s\u001b[0m 4ms/step - loss: 1.3408e-04 - mae: 0.0036 - val_loss: 6.8376e-06 - val_mae: 0.0013\n",
      "Epoch 2/20\n",
      "\u001b[1m15373/15373\u001b[0m \u001b[32m━━━━━━━━━━━━━━━━━━━━\u001b[0m\u001b[37m\u001b[0m \u001b[1m56s\u001b[0m 4ms/step - loss: 1.3892e-05 - mae: 0.0011 - val_loss: 6.7164e-06 - val_mae: 0.0014\n",
      "Epoch 3/20\n",
      "\u001b[1m15373/15373\u001b[0m \u001b[32m━━━━━━━━━━━━━━━━━━━━\u001b[0m\u001b[37m\u001b[0m \u001b[1m51s\u001b[0m 3ms/step - loss: 1.3714e-05 - mae: 0.0011 - val_loss: 6.5011e-06 - val_mae: 0.0013\n",
      "Epoch 4/20\n",
      "\u001b[1m15373/15373\u001b[0m \u001b[32m━━━━━━━━━━━━━━━━━━━━\u001b[0m\u001b[37m\u001b[0m \u001b[1m38s\u001b[0m 2ms/step - loss: 1.3584e-05 - mae: 0.0010 - val_loss: 6.4015e-06 - val_mae: 0.0013\n",
      "Epoch 5/20\n",
      "\u001b[1m15373/15373\u001b[0m \u001b[32m━━━━━━━━━━━━━━━━━━━━\u001b[0m\u001b[37m\u001b[0m \u001b[1m36s\u001b[0m 2ms/step - loss: 1.3468e-05 - mae: 0.0010 - val_loss: 6.2943e-06 - val_mae: 0.0012\n",
      "Epoch 6/20\n",
      "\u001b[1m15373/15373\u001b[0m \u001b[32m━━━━━━━━━━━━━━━━━━━━\u001b[0m\u001b[37m\u001b[0m \u001b[1m35s\u001b[0m 2ms/step - loss: 1.3399e-05 - mae: 0.0010 - val_loss: 6.3131e-06 - val_mae: 0.0013\n",
      "Epoch 7/20\n",
      "\u001b[1m15373/15373\u001b[0m \u001b[32m━━━━━━━━━━━━━━━━━━━━\u001b[0m\u001b[37m\u001b[0m \u001b[1m40s\u001b[0m 3ms/step - loss: 1.3350e-05 - mae: 0.0010 - val_loss: 6.3267e-06 - val_mae: 0.0012\n",
      "Epoch 8/20\n",
      "\u001b[1m15373/15373\u001b[0m \u001b[32m━━━━━━━━━━━━━━━━━━━━\u001b[0m\u001b[37m\u001b[0m \u001b[1m36s\u001b[0m 2ms/step - loss: 1.3319e-05 - mae: 0.0010 - val_loss: 6.3089e-06 - val_mae: 0.0013\n",
      "Epoch 9/20\n",
      "\u001b[1m15373/15373\u001b[0m \u001b[32m━━━━━━━━━━━━━━━━━━━━\u001b[0m\u001b[37m\u001b[0m \u001b[1m36s\u001b[0m 2ms/step - loss: 1.3259e-05 - mae: 0.0010 - val_loss: 6.2599e-06 - val_mae: 0.0012\n",
      "Epoch 10/20\n",
      "\u001b[1m15373/15373\u001b[0m \u001b[32m━━━━━━━━━━━━━━━━━━━━\u001b[0m\u001b[37m\u001b[0m \u001b[1m36s\u001b[0m 2ms/step - loss: 1.3231e-05 - mae: 0.0010 - val_loss: 6.2473e-06 - val_mae: 0.0012\n",
      "Epoch 11/20\n",
      "\u001b[1m15373/15373\u001b[0m \u001b[32m━━━━━━━━━━━━━━━━━━━━\u001b[0m\u001b[37m\u001b[0m \u001b[1m36s\u001b[0m 2ms/step - loss: 1.3154e-05 - mae: 0.0010 - val_loss: 6.2119e-06 - val_mae: 0.0012\n",
      "Epoch 12/20\n",
      "\u001b[1m15373/15373\u001b[0m \u001b[32m━━━━━━━━━━━━━━━━━━━━\u001b[0m\u001b[37m\u001b[0m \u001b[1m36s\u001b[0m 2ms/step - loss: 1.3126e-05 - mae: 9.9949e-04 - val_loss: 6.3134e-06 - val_mae: 0.0012\n",
      "Epoch 13/20\n",
      "\u001b[1m15373/15373\u001b[0m \u001b[32m━━━━━━━━━━━━━━━━━━━━\u001b[0m\u001b[37m\u001b[0m \u001b[1m38s\u001b[0m 2ms/step - loss: 1.3115e-05 - mae: 9.9911e-04 - val_loss: 6.1562e-06 - val_mae: 0.0012\n",
      "Epoch 14/20\n",
      "\u001b[1m15373/15373\u001b[0m \u001b[32m━━━━━━━━━━━━━━━━━━━━\u001b[0m\u001b[37m\u001b[0m \u001b[1m34s\u001b[0m 2ms/step - loss: 1.3106e-05 - mae: 9.9640e-04 - val_loss: 6.1905e-06 - val_mae: 0.0012\n",
      "Epoch 15/20\n",
      "\u001b[1m15373/15373\u001b[0m \u001b[32m━━━━━━━━━━━━━━━━━━━━\u001b[0m\u001b[37m\u001b[0m \u001b[1m35s\u001b[0m 2ms/step - loss: 1.3117e-05 - mae: 9.9297e-04 - val_loss: 6.2265e-06 - val_mae: 0.0012\n",
      "Epoch 16/20\n",
      "\u001b[1m15373/15373\u001b[0m \u001b[32m━━━━━━━━━━━━━━━━━━━━\u001b[0m\u001b[37m\u001b[0m \u001b[1m36s\u001b[0m 2ms/step - loss: 1.3106e-05 - mae: 9.9636e-04 - val_loss: 6.1228e-06 - val_mae: 0.0012\n",
      "Epoch 17/20\n",
      "\u001b[1m15373/15373\u001b[0m \u001b[32m━━━━━━━━━━━━━━━━━━━━\u001b[0m\u001b[37m\u001b[0m \u001b[1m35s\u001b[0m 2ms/step - loss: 1.3080e-05 - mae: 9.9403e-04 - val_loss: 6.1356e-06 - val_mae: 0.0012\n",
      "Epoch 18/20\n",
      "\u001b[1m15373/15373\u001b[0m \u001b[32m━━━━━━━━━━━━━━━━━━━━\u001b[0m\u001b[37m\u001b[0m \u001b[1m36s\u001b[0m 2ms/step - loss: 1.3062e-05 - mae: 9.9177e-04 - val_loss: 6.1357e-06 - val_mae: 0.0012\n",
      "Epoch 19/20\n",
      "\u001b[1m15373/15373\u001b[0m \u001b[32m━━━━━━━━━━━━━━━━━━━━\u001b[0m\u001b[37m\u001b[0m \u001b[1m34s\u001b[0m 2ms/step - loss: 1.3009e-05 - mae: 9.8796e-04 - val_loss: 6.0671e-06 - val_mae: 0.0012\n",
      "Epoch 20/20\n",
      "\u001b[1m15373/15373\u001b[0m \u001b[32m━━━━━━━━━━━━━━━━━━━━\u001b[0m\u001b[37m\u001b[0m \u001b[1m34s\u001b[0m 2ms/step - loss: 1.3035e-05 - mae: 9.9044e-04 - val_loss: 6.0846e-06 - val_mae: 0.0012\n",
      "\u001b[1m3843/3843\u001b[0m \u001b[32m━━━━━━━━━━━━━━━━━━━━\u001b[0m\u001b[37m\u001b[0m \u001b[1m3s\u001b[0m 734us/step\n"
     ]
    },
    {
     "name": "stderr",
     "output_type": "stream",
     "text": [
      "2025/09/04 18:06:31 WARNING mlflow.models.model: `artifact_path` is deprecated. Please use `name` instead.\n",
      "2025/09/04 18:06:31 WARNING mlflow.keras.save: You are saving a Keras model without specifying model signature.\n",
      "\u001b[31m2025/09/04 18:06:38 WARNING mlflow.models.model: Model logged without a signature and input example. Please set `input_example` parameter when logging the model to auto infer the model signature.\u001b[0m\n"
     ]
    },
    {
     "name": "stdout",
     "output_type": "stream",
     "text": [
      "LSTM 12 Months Run abgeschlossen – MAE=5.54, RMSE=11.26, SMAPE=54.00%, wMAPE=44.45%\n"
     ]
    }
   ],
   "source": [
    "# Unterordner für Plots erstellen\n",
    "os.makedirs(\"plots\", exist_ok=True)\n",
    "\n",
    "# Zusatzmetriken definieren\n",
    "def smape(y_true, y_pred):\n",
    "    return 100 * np.mean(\n",
    "        2 * np.abs(y_pred - y_true) / (np.abs(y_true) + np.abs(y_pred) + 1e-8)\n",
    "    )\n",
    "\n",
    "def wmape(y_true, y_pred):\n",
    "    return 100 * np.sum(np.abs(y_true - y_pred)) / np.sum(np.abs(y_true))\n",
    "\n",
    "with mlflow.start_run(run_name=\"LSTM_12Months\"):\n",
    "\n",
    "    # Hyperparameter definieren\n",
    "    lstm_params = {\n",
    "        \"units\": 32,\n",
    "        \"dropout\": 0.2,\n",
    "        \"epochs\": 20,\n",
    "        \"batch_size\": 64,\n",
    "        \"learning_rate\": 0.001\n",
    "    }\n",
    "    mlflow.log_params(lstm_params)\n",
    "    mlflow.log_param(\"model_type\", \"LSTM\")\n",
    "\n",
    "    # LSTM Modell erstellen und compile\n",
    "    model = Sequential([\n",
    "        LSTM(lstm_params[\"units\"], return_sequences=False, input_shape=(X_train.shape[1], X_train.shape[2])),\n",
    "        Dropout(lstm_params[\"dropout\"]),\n",
    "        Dense(16),\n",
    "        Dropout(0.1),\n",
    "        Dense(1)\n",
    "    ])\n",
    "    model.compile(optimizer='adam', loss='mse', metrics=['mae'])\n",
    "\n",
    "    # EarlyStopping Callback\n",
    "    early_stop = EarlyStopping(monitor='val_loss', patience=5, restore_best_weights=True)\n",
    "\n",
    "    # Training\n",
    "    history = model.fit(\n",
    "        X_train, y_train,\n",
    "        validation_data=(X_test, y_test),\n",
    "        epochs=lstm_params[\"epochs\"],\n",
    "        batch_size=lstm_params[\"batch_size\"],\n",
    "        callbacks=[early_stop],\n",
    "        verbose=1\n",
    "    )\n",
    "\n",
    "    # Vorhersage auf Testdaten\n",
    "    test_pred = model.predict(X_test, batch_size=lstm_params[\"batch_size\"])\n",
    "\n",
    "    # Rücktransformation der Vorhersage\n",
    "    def inverse_scale_target(scaled_values, original_scaler, target_col=0):\n",
    "        dummy = np.zeros((len(scaled_values), original_scaler.n_features_in_))\n",
    "        dummy[:, target_col] = scaled_values.flatten()\n",
    "        inversed = original_scaler.inverse_transform(dummy)\n",
    "        return inversed[:, target_col]\n",
    "\n",
    "    y_test_orig = inverse_scale_target(y_test.reshape(-1,1), scaler, target_col=0)\n",
    "    test_pred_orig = inverse_scale_target(test_pred, scaler, target_col=0)\n",
    "\n",
    "    # Metriken berechnen\n",
    "    mae = mean_absolute_error(y_test_orig, test_pred_orig)\n",
    "    mse = mean_squared_error(y_test_orig, test_pred_orig)\n",
    "    rmse = np.sqrt(mse)\n",
    "    smape_val = smape(y_test_orig, test_pred_orig)\n",
    "    wmape_val = wmape(y_test_orig, test_pred_orig)\n",
    "\n",
    "    # Metriken loggen\n",
    "    mlflow.log_metric(\"MAE\", mae)\n",
    "    mlflow.log_metric(\"MSE\", mse)\n",
    "    mlflow.log_metric(\"RMSE\", rmse)\n",
    "    mlflow.log_metric(\"SMAPE\", smape_val)\n",
    "    mlflow.log_metric(\"wMAPE\", wmape_val)\n",
    "\n",
    "    # Plot erstellen, speichern & loggen\n",
    "    plt.figure(figsize=(14,7))\n",
    "    plt.plot(y_test_orig[:200], label=\"Actual\")\n",
    "    plt.plot(test_pred_orig[:200], label=\"Predicted\", color=\"red\")\n",
    "    plt.title(\"Actual vs Predicted Sales – LSTM 12 Months\")\n",
    "    plt.legend()\n",
    "    plt.tight_layout()\n",
    "    plot_file = os.path.join(\"plots\", \"forecast_LSTM_12Months.png\")\n",
    "    plt.savefig(plot_file)\n",
    "    plt.close()\n",
    "\n",
    "    # Alle Plots aus dem Ordner 'plots' loggen\n",
    "    mlflow.log_artifacts(\"plots\", artifact_path=\"plots\")\n",
    "\n",
    "    # Keras Modell speichern\n",
    "    mlflow.keras.log_model(model, artifact_path=\"model\")\n",
    "\n",
    "print(\n",
    "    f\"LSTM 12 Months Run abgeschlossen – \"\n",
    "    f\"MAE={mae:.2f}, RMSE={rmse:.2f}, SMAPE={smape_val:.2f}%, wMAPE={wmape_val:.2f}%\"\n",
    ")\n"
   ]
  },
  {
   "cell_type": "code",
   "execution_count": 55,
   "id": "223314d7",
   "metadata": {},
   "outputs": [
    {
     "name": "stdout",
     "output_type": "stream",
     "text": [
      "Note: you may need to restart the kernel to use updated packages.\n"
     ]
    }
   ],
   "source": [
    "pip freeze > requirements.txt"
   ]
  }
 ],
 "metadata": {
  "kernelspec": {
   "display_name": "Python 3",
   "language": "python",
   "name": "python3"
  },
  "language_info": {
   "codemirror_mode": {
    "name": "ipython",
    "version": 3
   },
   "file_extension": ".py",
   "mimetype": "text/x-python",
   "name": "python",
   "nbconvert_exporter": "python",
   "pygments_lexer": "ipython3",
   "version": "3.11.9"
  }
 },
 "nbformat": 4,
 "nbformat_minor": 5
}
