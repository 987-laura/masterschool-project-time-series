{
 "cells": [
  {
   "cell_type": "code",
   "execution_count": 15,
   "id": "38e92449",
   "metadata": {},
   "outputs": [],
   "source": [
    "#pip install numpy "
   ]
  },
  {
   "cell_type": "code",
   "execution_count": 16,
   "id": "99bea4ba",
   "metadata": {},
   "outputs": [],
   "source": [
    "#pip install scikit-learn"
   ]
  },
  {
   "cell_type": "code",
   "execution_count": 17,
   "id": "cc6f80d6",
   "metadata": {},
   "outputs": [],
   "source": [
    "#pip install matplotlib"
   ]
  },
  {
   "cell_type": "code",
   "execution_count": 18,
   "id": "574fe978",
   "metadata": {},
   "outputs": [],
   "source": [
    "#pip install seaborn "
   ]
  },
  {
   "cell_type": "code",
   "execution_count": 19,
   "id": "142da611",
   "metadata": {},
   "outputs": [],
   "source": [
    "#pip install statsmodels"
   ]
  },
  {
   "cell_type": "code",
   "execution_count": 20,
   "id": "cff2f5d8",
   "metadata": {},
   "outputs": [],
   "source": [
    "#pip install xgboost"
   ]
  },
  {
   "cell_type": "code",
   "execution_count": 21,
   "id": "6771b730",
   "metadata": {},
   "outputs": [],
   "source": [
    "#pip install darts"
   ]
  },
  {
   "cell_type": "code",
   "execution_count": 22,
   "id": "7749d667",
   "metadata": {},
   "outputs": [],
   "source": [
    "#pip install mlflow\n"
   ]
  },
  {
   "cell_type": "code",
   "execution_count": 23,
   "id": "b1bd5041",
   "metadata": {},
   "outputs": [],
   "source": [
    "#pip install pyngrok --quiet"
   ]
  },
  {
   "cell_type": "code",
   "execution_count": 24,
   "id": "35906652",
   "metadata": {},
   "outputs": [],
   "source": [
    "#pip uninstall -y tensorflow tensorflow-intel tensorflow-io-gcs-filesystem ml-dtypes protobuf grpcio"
   ]
  },
  {
   "cell_type": "code",
   "execution_count": 25,
   "id": "f4eab409",
   "metadata": {},
   "outputs": [],
   "source": [
    "#pip install tensorflow==2.16.1"
   ]
  },
  {
   "cell_type": "markdown",
   "id": "2a9957a5",
   "metadata": {},
   "source": [
    "# Bibliotheken laden"
   ]
  },
  {
   "cell_type": "code",
   "execution_count": 26,
   "id": "b15e0759",
   "metadata": {},
   "outputs": [],
   "source": [
    "# Bibliotheken importieren\n",
    "\n",
    "import pandas as pd\n",
    "import numpy as np\n",
    "\n",
    "import matplotlib.pyplot as plt\n",
    "import seaborn as sns\n",
    "\n",
    "from sklearn.metrics import mean_squared_error, mean_absolute_error\n",
    "from sklearn.model_selection import train_test_split, cross_val_score, GridSearchCV, TimeSeriesSplit, RandomizedSearchCV\n",
    "from sklearn.preprocessing import OneHotEncoder, MinMaxScaler\n",
    "\n",
    "import xgboost as xgb\n",
    "from xgboost import XGBRegressor\n",
    "from xgboost import XGBModel\n",
    "\n",
    "import mlflow\n",
    "import mlflow.xgboost\n",
    "\n",
    "from pyngrok import ngrok, conf\n",
    "import getpass\n",
    "import subprocess\n",
    "\n",
    "import os\n",
    "\n",
    "# reproducibility\n",
    "np.random.seed(42)\n",
    "\n",
    "#from sklearn.model_selection import TimeSeriesSplit, RandomizedSearchCV # new import we need for this week"
   ]
  },
  {
   "cell_type": "code",
   "execution_count": 27,
   "id": "32c04e75",
   "metadata": {},
   "outputs": [],
   "source": [
    "import tensorflow as tf\n",
    "from tensorflow.keras import Sequential\n",
    "from tensorflow.keras.layers import LSTM, Dropout, Dense\n",
    "\n",
    "tf.random.set_seed(42)\n"
   ]
  },
  {
   "cell_type": "code",
   "execution_count": null,
   "id": "c8494ceb",
   "metadata": {},
   "outputs": [
    {
     "name": "stdout",
     "output_type": "stream",
     "text": [
      "Vorhandenes Backend-Verzeichnis wird gelöscht, um Fehler zu vermeiden...\n",
      "MLflow UI wird auf Port 7842 gestartet.\n"
     ]
    },
    {
     "name": "stderr",
     "output_type": "stream",
     "text": [
      "INFO:     Uvicorn running on http://127.0.0.1:7842 (Press CTRL+C to quit)\n",
      "INFO:     Started parent process [19667]\n",
      "INFO:     Started server process [19671]\n",
      "INFO:     Started server process [19672]\n",
      "INFO:     Waiting for application startup.\n",
      "INFO:     Waiting for application startup.\n",
      "INFO:     Started server process [19670]\n",
      "INFO:     Waiting for application startup.\n",
      "INFO:     Started server process [19669]\n",
      "INFO:     Waiting for application startup.\n",
      "INFO:     Application startup complete.\n",
      "INFO:     Application startup complete.\n",
      "INFO:     Application startup complete.\n",
      "INFO:     Application startup complete.\n"
     ]
    },
    {
     "name": "stdout",
     "output_type": "stream",
     "text": [
      "Enter your ngrok authtoken (https://dashboard.ngrok.com/get-started/your-authtoken):\n"
     ]
    },
    {
     "name": "stderr",
     "output_type": "stream",
     "text": [
      "2025/09/04 17:24:33 INFO mlflow.tracking.fluent: Experiment with name 'Test_Experiment' does not exist. Creating a new experiment.\n"
     ]
    },
    {
     "name": "stdout",
     "output_type": "stream",
     "text": [
      "MLflow UI lokal: http://127.0.0.1:7842/#/experiments\n",
      "MLflow UI öffentlich über ngrok: https://8e40693915c2.ngrok-free.app/#/experiments\n",
      "\n",
      "Test-Experiment 'Test_Experiment' erfolgreich erstellt! Du solltest es jetzt in der UI sehen.\n",
      "\n",
      "Hinweis: Dieses Skript muss laufen bleiben, damit MLflow UI und ngrok aktiv bleiben.\n"
     ]
    },
    {
     "name": "stderr",
     "output_type": "stream",
     "text": [
      "t=2025-09-04T18:09:23+0200 lvl=eror msg=\"heartbeat timeout, terminating session\" obj=tunnels.session obj=csess id=aaa285dead79 clientid=b1086f181291288031f6a016e0009d5f\n",
      "t=2025-09-04T18:09:23+0200 lvl=eror msg=\"session closed, starting reconnect loop\" obj=tunnels.session obj=csess id=935f0339d9fc err=\"session closed\"\n",
      "t=2025-09-04T18:29:09+0200 lvl=eror msg=\"session closed, starting reconnect loop\" obj=tunnels.session obj=csess id=935f0339d9fc err=\"read tcp 192.168.178.28:55254->3.12.62.205:443: read: connection reset by peer\"\n",
      "t=2025-09-04T18:39:05+0200 lvl=eror msg=\"session closed, starting reconnect loop\" obj=tunnels.session obj=csess id=935f0339d9fc err=\"read tcp 192.168.178.28:55263->3.133.228.214:443: read: connection reset by peer\"\n",
      "t=2025-09-04T18:39:08+0200 lvl=eror msg=\"heartbeat timeout, terminating session\" obj=tunnels.session obj=csess id=3acdbb29bbb7 clientid=b1086f181291288031f6a016e0009d5f\n",
      "t=2025-09-04T18:54:33+0200 lvl=eror msg=\"session closed, starting reconnect loop\" obj=tunnels.session obj=csess id=935f0339d9fc err=\"read tcp 192.168.178.28:55271->3.136.132.147:443: read: connection reset by peer\"\n",
      "t=2025-09-04T18:54:37+0200 lvl=eror msg=\"heartbeat timeout, terminating session\" obj=tunnels.session obj=csess id=c683e7d7288c clientid=b1086f181291288031f6a016e0009d5f\n",
      "t=2025-09-04T18:54:49+0200 lvl=eror msg=\"heartbeat timeout, terminating session\" obj=tunnels.session obj=csess id=e6eb2d6a3f84 clientid=b1086f181291288031f6a016e0009d5f\n",
      "t=2025-09-04T19:25:09+0200 lvl=eror msg=\"session closed, starting reconnect loop\" obj=tunnels.session obj=csess id=935f0339d9fc err=\"read tcp 192.168.178.28:55281->3.12.62.205:443: read: connection reset by peer\"\n",
      "t=2025-09-04T19:25:24+0200 lvl=eror msg=\"heartbeat timeout, terminating session\" obj=tunnels.session obj=csess id=b039f40da673 clientid=b1086f181291288031f6a016e0009d5f\n",
      "t=2025-09-04T19:54:18+0200 lvl=eror msg=\"session closed, starting reconnect loop\" obj=tunnels.session obj=csess id=935f0339d9fc err=\"read tcp 192.168.178.28:55297->3.20.27.198:443: read: connection reset by peer\"\n",
      "t=2025-09-04T20:06:20+0200 lvl=eror msg=\"session closed, starting reconnect loop\" obj=tunnels.session obj=csess id=935f0339d9fc err=\"read tcp 192.168.178.28:55308->3.136.132.147:443: read: connection reset by peer\"\n",
      "t=2025-09-04T20:06:24+0200 lvl=eror msg=\"heartbeat timeout, terminating session\" obj=tunnels.session obj=csess id=adca056cc3c5 clientid=b1086f181291288031f6a016e0009d5f\n",
      "t=2025-09-04T20:06:35+0200 lvl=eror msg=\"heartbeat timeout, terminating session\" obj=tunnels.session obj=csess id=13423b845dbb clientid=b1086f181291288031f6a016e0009d5f\n",
      "t=2025-09-05T00:55:46+0200 lvl=eror msg=\"session closed, starting reconnect loop\" obj=tunnels.session obj=csess id=935f0339d9fc err=\"read tcp 192.168.178.28:55336->3.133.228.214:443: read: connection reset by peer\"\n",
      "t=2025-09-05T00:56:01+0200 lvl=eror msg=\"heartbeat timeout, terminating session\" obj=tunnels.session obj=csess id=74b31957a674 clientid=b1086f181291288031f6a016e0009d5f\n",
      "t=2025-09-05T01:14:36+0200 lvl=eror msg=\"session closed, starting reconnect loop\" obj=tunnels.session obj=csess id=935f0339d9fc err=\"read tcp 192.168.178.28:59188->3.16.250.205:443: read: connection reset by peer\"\n",
      "t=2025-09-05T01:47:01+0200 lvl=eror msg=\"session closed, starting reconnect loop\" obj=tunnels.session obj=csess id=935f0339d9fc err=\"read tcp 192.168.178.28:59195->3.20.27.198:443: read: connection reset by peer\"\n",
      "t=2025-09-05T02:03:28+0200 lvl=eror msg=\"heartbeat timeout, terminating session\" obj=tunnels.session obj=csess id=da7c8e491687 clientid=b1086f181291288031f6a016e0009d5f\n",
      "t=2025-09-05T02:03:34+0200 lvl=eror msg=\"session closed, starting reconnect loop\" obj=tunnels.session obj=csess id=935f0339d9fc err=\"read tcp 192.168.178.28:59206->3.134.73.173:443: read: connection reset by peer\"\n",
      "t=2025-09-05T02:03:38+0200 lvl=eror msg=\"heartbeat timeout, terminating session\" obj=tunnels.session obj=csess id=4f9d41ab7af7 clientid=b1086f181291288031f6a016e0009d5f\n",
      "t=2025-09-05T02:03:48+0200 lvl=eror msg=\"heartbeat timeout, terminating session\" obj=tunnels.session obj=csess id=ff41677aa025 clientid=b1086f181291288031f6a016e0009d5f\n",
      "t=2025-09-05T02:38:05+0200 lvl=eror msg=\"session closed, starting reconnect loop\" obj=tunnels.session obj=csess id=935f0339d9fc err=\"read tcp 192.168.178.28:59215->3.12.62.205:443: read: connection reset by peer\"\n",
      "t=2025-09-05T02:41:30+0200 lvl=eror msg=\"heartbeat timeout, terminating session\" obj=tunnels.session obj=csess id=7834bd7e73df clientid=b1086f181291288031f6a016e0009d5f\n",
      "t=2025-09-05T02:41:41+0200 lvl=eror msg=\"heartbeat timeout, terminating session\" obj=tunnels.session obj=csess id=a4adf277ee46 clientid=b1086f181291288031f6a016e0009d5f\n",
      "t=2025-09-05T02:41:41+0200 lvl=eror msg=\"session closed, starting reconnect loop\" obj=tunnels.session obj=csess id=935f0339d9fc err=\"session closed\"\n",
      "t=2025-09-05T02:58:03+0200 lvl=eror msg=\"session closed, starting reconnect loop\" obj=tunnels.session obj=csess id=935f0339d9fc err=\"read tcp 192.168.178.28:59234->3.12.62.205:443: read: connection reset by peer\"\n",
      "t=2025-09-05T03:14:10+0200 lvl=eror msg=\"session closed, starting reconnect loop\" obj=tunnels.session obj=csess id=935f0339d9fc err=\"read tcp 192.168.178.28:59236->3.20.27.198:443: read: connection reset by peer\"\n",
      "t=2025-09-05T03:14:14+0200 lvl=eror msg=\"heartbeat timeout, terminating session\" obj=tunnels.session obj=csess id=0e0ad29f8ee1 clientid=b1086f181291288031f6a016e0009d5f\n",
      "t=2025-09-05T03:14:25+0200 lvl=eror msg=\"heartbeat timeout, terminating session\" obj=tunnels.session obj=csess id=1fc2d1feb532 clientid=b1086f181291288031f6a016e0009d5f\n",
      "t=2025-09-05T03:31:23+0200 lvl=eror msg=\"session closed, starting reconnect loop\" obj=tunnels.session obj=csess id=935f0339d9fc err=\"read tcp 192.168.178.28:59244->3.12.62.205:443: read: connection reset by peer\"\n",
      "t=2025-09-05T03:42:21+0200 lvl=eror msg=\"failed to reconnect session\" obj=tunnels.session err=\"session closed\"\n",
      "t=2025-09-05T03:42:34+0200 lvl=eror msg=\"heartbeat timeout, terminating session\" obj=tunnels.session obj=csess id=14efc8dc01ed clientid=b1086f181291288031f6a016e0009d5f\n",
      "t=2025-09-05T03:58:23+0200 lvl=eror msg=\"session closed, starting reconnect loop\" obj=tunnels.session obj=csess id=935f0339d9fc err=\"read tcp 192.168.178.28:59252->3.16.250.205:443: read: connection reset by peer\"\n",
      "t=2025-09-05T04:29:32+0200 lvl=eror msg=\"session closed, starting reconnect loop\" obj=tunnels.session obj=csess id=935f0339d9fc err=\"read tcp 192.168.178.28:59349->3.12.62.205:443: read: connection reset by peer\"\n",
      "t=2025-09-05T04:29:37+0200 lvl=eror msg=\"heartbeat timeout, terminating session\" obj=tunnels.session obj=csess id=9a1fe7bd73d0 clientid=b1086f181291288031f6a016e0009d5f\n",
      "t=2025-09-05T04:29:47+0200 lvl=eror msg=\"heartbeat timeout, terminating session\" obj=tunnels.session obj=csess id=4ab3dce37912 clientid=b1086f181291288031f6a016e0009d5f\n",
      "t=2025-09-05T04:43:21+0200 lvl=eror msg=\"session closed, starting reconnect loop\" obj=tunnels.session obj=csess id=935f0339d9fc err=\"read tcp 192.168.178.28:59364->3.16.250.205:443: read: connection reset by peer\"\n",
      "t=2025-09-05T04:43:35+0200 lvl=eror msg=\"heartbeat timeout, terminating session\" obj=tunnels.session obj=csess id=abd1fafc3953 clientid=b1086f181291288031f6a016e0009d5f\n",
      "t=2025-09-05T05:01:41+0200 lvl=eror msg=\"session closed, starting reconnect loop\" obj=tunnels.session obj=csess id=935f0339d9fc err=\"read tcp 192.168.178.28:59369->3.20.27.198:443: read: connection reset by peer\"\n",
      "t=2025-09-05T05:18:11+0200 lvl=eror msg=\"failed to reconnect session\" obj=tunnels.session err=\"session closed\"\n",
      "t=2025-09-05T05:34:39+0200 lvl=eror msg=\"session closed, starting reconnect loop\" obj=tunnels.session obj=csess id=935f0339d9fc err=\"read tcp 192.168.178.28:59392->3.133.228.214:443: read: connection reset by peer\"\n",
      "t=2025-09-05T05:34:42+0200 lvl=eror msg=\"heartbeat timeout, terminating session\" obj=tunnels.session obj=csess id=b6d18fe92e6b clientid=b1086f181291288031f6a016e0009d5f\n",
      "t=2025-09-05T05:34:54+0200 lvl=eror msg=\"heartbeat timeout, terminating session\" obj=tunnels.session obj=csess id=c5ed5d3c26f0 clientid=b1086f181291288031f6a016e0009d5f\n",
      "t=2025-09-05T05:44:25+0200 lvl=eror msg=\"session closed, starting reconnect loop\" obj=tunnels.session obj=csess id=935f0339d9fc err=\"read tcp 192.168.178.28:59402->3.20.27.198:443: read: connection reset by peer\"\n",
      "t=2025-09-05T05:44:40+0200 lvl=eror msg=\"heartbeat timeout, terminating session\" obj=tunnels.session obj=csess id=2d23b366f9f7 clientid=b1086f181291288031f6a016e0009d5f\n",
      "t=2025-09-05T06:16:14+0200 lvl=eror msg=\"session closed, starting reconnect loop\" obj=tunnels.session obj=csess id=935f0339d9fc err=\"read tcp 192.168.178.28:59405->3.133.228.214:443: read: connection reset by peer\"\n",
      "t=2025-09-05T06:16:29+0200 lvl=eror msg=\"heartbeat timeout, terminating session\" obj=tunnels.session obj=csess id=8f0aadc97d32 clientid=b1086f181291288031f6a016e0009d5f\n",
      "t=2025-09-05T06:45:24+0200 lvl=eror msg=\"session closed, starting reconnect loop\" obj=tunnels.session obj=csess id=935f0339d9fc err=\"read tcp 192.168.178.28:59407->3.134.73.173:443: read: connection reset by peer\"\n",
      "t=2025-09-05T06:45:39+0200 lvl=eror msg=\"heartbeat timeout, terminating session\" obj=tunnels.session obj=csess id=fa14750fc6c2 clientid=b1086f181291288031f6a016e0009d5f\n",
      "t=2025-09-05T06:51:50+0200 lvl=eror msg=\"session closed, starting reconnect loop\" obj=tunnels.session obj=csess id=935f0339d9fc err=\"read tcp 192.168.178.28:59428->3.136.132.147:443: read: connection reset by peer\"\n",
      "t=2025-09-05T06:52:05+0200 lvl=eror msg=\"heartbeat timeout, terminating session\" obj=tunnels.session obj=csess id=96ee4dc28bb1 clientid=b1086f181291288031f6a016e0009d5f\n",
      "t=2025-09-05T06:53:48+0200 lvl=eror msg=\"session closed, starting reconnect loop\" obj=tunnels.session obj=csess id=935f0339d9fc err=\"read EOF from remote peer\"\n",
      "t=2025-09-05T06:56:26+0200 lvl=eror msg=\"heartbeat timeout, terminating session\" obj=tunnels.session obj=csess id=aaeaf7e9c51e clientid=b1086f181291288031f6a016e0009d5f\n",
      "t=2025-09-05T06:56:37+0200 lvl=eror msg=\"heartbeat timeout, terminating session\" obj=tunnels.session obj=csess id=f05752753fd4 clientid=b1086f181291288031f6a016e0009d5f\n",
      "t=2025-09-05T06:56:37+0200 lvl=eror msg=\"session closed, starting reconnect loop\" obj=tunnels.session obj=csess id=935f0339d9fc err=\"session closed\"\n",
      "t=2025-09-05T07:22:17+0200 lvl=eror msg=\"session closed, starting reconnect loop\" obj=tunnels.session obj=csess id=935f0339d9fc err=\"read tcp 192.168.178.28:59449->3.134.73.173:443: read: connection reset by peer\"\n",
      "t=2025-09-05T07:22:32+0200 lvl=eror msg=\"heartbeat timeout, terminating session\" obj=tunnels.session obj=csess id=405faefe77ec clientid=b1086f181291288031f6a016e0009d5f\n",
      "t=2025-09-05T07:32:50+0200 lvl=eror msg=\"session closed, starting reconnect loop\" obj=tunnels.session obj=csess id=935f0339d9fc err=\"read tcp 192.168.178.28:59453->3.136.132.147:443: read: connection reset by peer\"\n",
      "t=2025-09-05T07:33:04+0200 lvl=eror msg=\"heartbeat timeout, terminating session\" obj=tunnels.session obj=csess id=0f11e041566b clientid=b1086f181291288031f6a016e0009d5f\n",
      "t=2025-09-05T07:41:23+0200 lvl=eror msg=\"session closed, starting reconnect loop\" obj=tunnels.session obj=csess id=935f0339d9fc err=\"read tcp 192.168.178.28:59459->3.136.132.147:443: read: connection reset by peer\"\n",
      "t=2025-09-05T07:41:38+0200 lvl=eror msg=\"heartbeat timeout, terminating session\" obj=tunnels.session obj=csess id=4972143d2633 clientid=b1086f181291288031f6a016e0009d5f\n",
      "t=2025-09-05T07:46:40+0200 lvl=eror msg=\"heartbeat timeout, terminating session\" obj=tunnels.session obj=csess id=3a40de07cf1b clientid=b1086f181291288031f6a016e0009d5f\n",
      "t=2025-09-05T07:46:40+0200 lvl=eror msg=\"session closed, starting reconnect loop\" obj=tunnels.session obj=csess id=935f0339d9fc err=\"session closed\"\n",
      "t=2025-09-05T07:47:43+0200 lvl=eror msg=\"session closed, starting reconnect loop\" obj=tunnels.session obj=csess id=935f0339d9fc err=\"read EOF from remote peer\"\n",
      "t=2025-09-05T07:47:57+0200 lvl=eror msg=\"heartbeat timeout, terminating session\" obj=tunnels.session obj=csess id=246ed729ce6f clientid=b1086f181291288031f6a016e0009d5f\n"
     ]
    }
   ],
   "source": [
    "# -------------------------------\n",
    "# Sauberes MLflow + ngrok Setup\n",
    "# -------------------------------\n",
    "\n",
    "import os\n",
    "import subprocess\n",
    "import time\n",
    "import random\n",
    "\n",
    "import mlflow\n",
    "from pyngrok import ngrok, conf\n",
    "\n",
    "# -----------------------------------\n",
    "# 1️⃣ MLflow Backend-Verzeichnis\n",
    "# -----------------------------------\n",
    "mlflow_storage_path = \"/Users/laurapeters/Desktop/VS-Time-series-Projekt/mlflow_results\"\n",
    "\n",
    "# Existierendes Backend sichern oder leeren\n",
    "if os.path.exists(mlflow_storage_path):\n",
    "    print(\"Vorhandenes Backend-Verzeichnis wird gelöscht, um Fehler zu vermeiden...\")\n",
    "    import shutil\n",
    "    shutil.rmtree(mlflow_storage_path)\n",
    "\n",
    "os.makedirs(mlflow_storage_path, exist_ok=True)\n",
    "\n",
    "# Backend-Store URI setzen\n",
    "mlflow.set_tracking_uri(f\"file:{mlflow_storage_path}\")\n",
    "\n",
    "# -----------------------------------\n",
    "# 2️⃣ Alte ngrok-Tunnel schließen\n",
    "# -----------------------------------\n",
    "ngrok.kill()  # alle Tunnel beenden\n",
    "\n",
    "# -----------------------------------\n",
    "# 3️⃣ Freien Port wählen\n",
    "# -----------------------------------\n",
    "port = random.randint(5000, 9000)\n",
    "print(f\"MLflow UI wird auf Port {port} gestartet.\")\n",
    "\n",
    "# -----------------------------------\n",
    "# 4️⃣ MLflow UI starten\n",
    "# -----------------------------------\n",
    "mlflow_ui_process = subprocess.Popen([\n",
    "    \"mlflow\", \"ui\",\n",
    "    \"--port\", str(port),\n",
    "    \"--backend-store-uri\", f\"file:{mlflow_storage_path}\"\n",
    "])\n",
    "\n",
    "# Kleine Pause, damit MLflow UI Zeit hat zu starten\n",
    "time.sleep(5)\n",
    "\n",
    "# -----------------------------------\n",
    "# 5️⃣ ngrok Tunnel öffnen\n",
    "# -----------------------------------\n",
    "print(\"Enter your ngrok authtoken (https://dashboard.ngrok.com/get-started/your-authtoken):\")\n",
    "conf.get_default().auth_token = \"32CUtezl2L77vuYQQo6Gqt9M5ih_3KPUDPugApg6QPqySKF18\"\n",
    "\n",
    "public_url = ngrok.connect(port).public_url\n",
    "print(f\"MLflow UI lokal: http://127.0.0.1:{port}/#/experiments\")\n",
    "print(f\"MLflow UI öffentlich über ngrok: {public_url}/#/experiments\")\n",
    "\n",
    "# -----------------------------------\n",
    "# 6️⃣ Test-Experiment erstellen\n",
    "# -----------------------------------\n",
    "experiment_name = \"Test_Experiment\"  # sicherer Name ohne Sonderzeichen\n",
    "mlflow.set_experiment(experiment_name)\n",
    "\n",
    "with mlflow.start_run():\n",
    "    mlflow.log_param(\"test_param\", 123)\n",
    "    mlflow.log_metric(\"test_metric\", 0.99)\n",
    "\n",
    "print(f\"\\nTest-Experiment '{experiment_name}' erfolgreich erstellt! Du solltest es jetzt in der UI sehen.\")\n",
    "print(\"\\nHinweis: Dieses Skript muss laufen bleiben, damit MLflow UI und ngrok aktiv bleiben.\")\n"
   ]
  },
  {
   "cell_type": "code",
   "execution_count": 29,
   "id": "c86e99fb",
   "metadata": {},
   "outputs": [],
   "source": [
    "os.makedirs(mlflow_storage_path, exist_ok=True)\n"
   ]
  },
  {
   "cell_type": "code",
   "execution_count": 30,
   "id": "d143740f",
   "metadata": {},
   "outputs": [
    {
     "data": {
      "text/plain": [
       "<Popen: returncode: None args: ['mlflow', 'ui', '--backend-store-uri', 'file...>"
      ]
     },
     "execution_count": 30,
     "metadata": {},
     "output_type": "execute_result"
    }
   ],
   "source": [
    "subprocess.Popen([\"mlflow\", \"ui\", \"--backend-store-uri\", f\"file:{mlflow_storage_path}\"])\n"
   ]
  },
  {
   "cell_type": "markdown",
   "id": "b19c5f72",
   "metadata": {},
   "source": [
    "# Setup"
   ]
  },
  {
   "cell_type": "code",
   "execution_count": 31,
   "id": "b74e2b0d",
   "metadata": {},
   "outputs": [
    {
     "name": "stdout",
     "output_type": "stream",
     "text": [
      "Enter your authtoken, which can be copied from https://dashboard.ngrok.com/get-started/your-authtoken\n",
      " * ngrok tunnel (ULR for MLFLow UI) \"https://d8859cbbe40a.ngrok-free.app\" \n"
     ]
    }
   ],
   "source": [
    "print(\"Enter your authtoken, which can be copied from https://dashboard.ngrok.com/get-started/your-authtoken\")\n",
    "conf.get_default().auth_token = \"32CUtezl2L77vuYQQo6Gqt9M5ih_3KPUDPugApg6QPqySKF18\"\n",
    "port=5000\n",
    "public_url = ngrok.connect(port).public_url\n",
    "print(f' * ngrok tunnel (ULR for MLFLow UI) \\\"{public_url}\\\" ')"
   ]
  },
  {
   "cell_type": "code",
   "execution_count": 32,
   "id": "f7a31250",
   "metadata": {},
   "outputs": [],
   "source": [
    "# Define the MLflow storage path in Google Drive\n",
    "mlflow_storage_path = \"/Users/laurapeters/Desktop/VS-Time-series-Projekt/mlflow_results\"\n",
    "\n",
    "# Set MLflow to log to the Google Drive directory\n",
    "mlflow.set_tracking_uri(f\"file:{mlflow_storage_path}\")"
   ]
  },
  {
   "cell_type": "code",
   "execution_count": 33,
   "id": "e553f71f",
   "metadata": {},
   "outputs": [
    {
     "name": "stderr",
     "output_type": "stream",
     "text": [
      "2025/09/04 17:24:33 INFO mlflow.tracking.fluent: Experiment with name 'Modell-Vergleiche' does not exist. Creating a new experiment.\n"
     ]
    },
    {
     "data": {
      "text/plain": [
       "<Experiment: artifact_location='file:///Users/laurapeters/Desktop/VS-Time-series-Projekt/mlflow_results/551520531669055046', creation_time=1756999473550, experiment_id='551520531669055046', last_update_time=1756999473550, lifecycle_stage='active', name='Modell-Vergleiche', tags={}>"
      ]
     },
     "execution_count": 33,
     "metadata": {},
     "output_type": "execute_result"
    }
   ],
   "source": [
    "# Set up experiment name\n",
    "mlflow.set_experiment(\"Modell-Vergleiche\")   # creates it once, reuses it next time"
   ]
  },
  {
   "cell_type": "markdown",
   "id": "8fb481d5",
   "metadata": {},
   "source": [
    "# Start MLFlow UI"
   ]
  },
  {
   "cell_type": "code",
   "execution_count": 34,
   "id": "48f33777",
   "metadata": {},
   "outputs": [
    {
     "data": {
      "text/plain": [
       "<Popen: returncode: None args: ['mlflow', 'ui', '--backend-store-uri', '/Use...>"
      ]
     },
     "execution_count": 34,
     "metadata": {},
     "output_type": "execute_result"
    }
   ],
   "source": [
    "# Launch MLflow UI on port 5000\n",
    "subprocess.Popen([\"mlflow\", \"ui\", \"--backend-store-uri\", mlflow_storage_path])"
   ]
  },
  {
   "cell_type": "code",
   "execution_count": 35,
   "id": "fa5655a4",
   "metadata": {},
   "outputs": [
    {
     "name": "stdout",
     "output_type": "stream",
     "text": [
      "        date        id  store_nbr  item_nbr  unit_sales  onpromotion  \\\n",
      "0 2014-02-21  19281571         24    103520         2.0        False   \n",
      "1 2014-02-22  19331514         24    103520         8.0        False   \n",
      "2 2014-02-23  19382503         24    103520         3.0        False   \n",
      "3 2014-02-24  19432532         24    103520         1.0        False   \n",
      "4 2014-02-25  19481433         24    103520         6.0        False   \n",
      "\n",
      "   is_outlier  year  month  day  ...  holiday_transferred transactions  lag_7  \\\n",
      "0       False  2014      2   21  ...                    0       2455.0   10.0   \n",
      "1       False  2014      2   22  ...                    0       2291.0   10.0   \n",
      "2       False  2014      2   23  ...                    0       1419.0    8.0   \n",
      "3       False  2014      2   24  ...                    0       2247.0    4.0   \n",
      "4       False  2014      2   25  ...                    0       2192.0    2.0   \n",
      "\n",
      "   lag_30  lag_364 rolling_7d_std rolling_30d_std rolling_7d_mean  \\\n",
      "0     3.0      6.0       6.658328        9.693522        9.000000   \n",
      "1     3.0     16.0       2.751623        2.725992        5.714286   \n",
      "2     4.0      7.0      18.442962       14.250791       22.142857   \n",
      "3     5.0      1.0       3.716117        2.725782        4.857143   \n",
      "4     4.0      2.0      11.338934       11.418074       31.714286   \n",
      "\n",
      "   rolling_30d_mean is_weekend  \n",
      "0         11.633333          0  \n",
      "1          6.500000          1  \n",
      "2         23.133333          1  \n",
      "3          4.466667          0  \n",
      "4         32.800000          0  \n",
      "\n",
      "[5 rows x 33 columns]\n"
     ]
    },
    {
     "name": "stderr",
     "output_type": "stream",
     "text": [
      "ERROR:    [Errno 48] Address already in use\n",
      "ERROR:    [Errno 48] Address already in use\n",
      "Running the mlflow server failed. Please see the logs above for details.\n",
      "Running the mlflow server failed. Please see the logs above for details.\n"
     ]
    },
    {
     "name": "stdout",
     "output_type": "stream",
     "text": [
      "INFO:     127.0.0.1:54648 - \"GET / HTTP/1.1\" 200 OK\n",
      "INFO:     127.0.0.1:54648 - \"GET /static-files/manifest.json HTTP/1.1\" 200 OK\n",
      "INFO:     127.0.0.1:54649 - \"GET /static-files/static/js/main.afd6eeec.js HTTP/1.1\" 200 OK\n",
      "INFO:     127.0.0.1:54650 - \"GET /static-files/static/css/main.702595df.css HTTP/1.1\" 200 OK\n",
      "INFO:     127.0.0.1:54648 - \"GET /static-files/static/js/618.c43acc34.chunk.js HTTP/1.1\" 200 OK\n",
      "INFO:     127.0.0.1:54650 - \"GET /static-files/static/js/6991.0e98e62b.chunk.js HTTP/1.1\" 200 OK\n",
      "INFO:     127.0.0.1:54649 - \"GET /static-files/static/css/3044.41bf106c.chunk.css HTTP/1.1\" 200 OK\n",
      "INFO:     127.0.0.1:54651 - \"GET /static-files/static/js/3044.833a108e.chunk.js HTTP/1.1\" 200 OK\n",
      "INFO:     127.0.0.1:54650 - \"GET /static-files/favicon.ico HTTP/1.1\" 200 OK\n",
      "INFO:     127.0.0.1:54649 - \"GET /ajax-api/2.0/mlflow/experiments/search?max_results=25&order_by=last_update_time+DESC HTTP/1.1\" 200 OK\n",
      "INFO:     127.0.0.1:54668 - \"GET /static-files/static/js/7027.6961c163.chunk.js HTTP/1.1\" 200 OK\n",
      "INFO:     127.0.0.1:54671 - \"GET /static-files/static/js/8846.2cec14c5.chunk.js HTTP/1.1\" 200 OK\n",
      "INFO:     127.0.0.1:54671 - \"GET /static-files/static/js/7021.21cfd230.chunk.js HTTP/1.1\" 200 OK\n",
      "INFO:     127.0.0.1:54669 - \"GET /static-files/static/js/5879.8c03c3a7.chunk.js HTTP/1.1\" 200 OK\n",
      "INFO:     127.0.0.1:54672 - \"GET /static-files/static/js/7262.504f3f63.chunk.js HTTP/1.1\" 200 OK\n",
      "INFO:     127.0.0.1:54670 - \"GET /static-files/static/js/4175.8b841372.chunk.js HTTP/1.1\" 200 OK\n",
      "INFO:     127.0.0.1:54673 - \"GET /static-files/static/js/2231.5a7fbe5e.chunk.js HTTP/1.1\" 200 OK\n",
      "INFO:     127.0.0.1:54668 - \"GET /static-files/static/js/2025.fccf596b.chunk.js HTTP/1.1\" 200 OK\n",
      "INFO:     127.0.0.1:54672 - \"GET /static-files/static/js/8238.657b5a23.chunk.js HTTP/1.1\" 200 OK\n",
      "INFO:     127.0.0.1:54673 - \"GET /static-files/static/js/7836.f2717175.chunk.js HTTP/1.1\" 200 OK\n",
      "INFO:     127.0.0.1:54672 - \"GET /static-files/static/js/1107.3b7eb241.chunk.js HTTP/1.1\" 200 OK\n",
      "INFO:     127.0.0.1:54668 - \"GET /static-files/static/js/3885.d0676114.chunk.js HTTP/1.1\" 200 OK\n",
      "INFO:     127.0.0.1:54672 - \"GET /static-files/static/js/8521.b52661e6.chunk.js HTTP/1.1\" 200 OK\n",
      "INFO:     127.0.0.1:54668 - \"GET /static-files/static/js/939.e6c5459d.chunk.js HTTP/1.1\" 200 OK\n",
      "INFO:     127.0.0.1:54670 - \"GET /static-files/static/js/7681.fc62d7a0.chunk.js HTTP/1.1\" 200 OK\n",
      "INFO:     127.0.0.1:54673 - \"GET /static-files/static/js/571.1ca4d1b2.chunk.js HTTP/1.1\" 200 OK\n",
      "INFO:     127.0.0.1:54672 - \"GET /static-files/static/js/5194.c0a3aeee.chunk.js HTTP/1.1\" 200 OK\n",
      "INFO:     127.0.0.1:54673 - \"GET /static-files/static/js/9640.0a135d5c.chunk.js HTTP/1.1\" 200 OK\n",
      "INFO:     127.0.0.1:54672 - \"GET /static-files/static/js/4651.10146ea9.chunk.js HTTP/1.1\" 200 OK\n",
      "INFO:     127.0.0.1:54669 - \"GET /static-files/static/js/4173.cd85b491.chunk.js HTTP/1.1\" 200 OK\n",
      "INFO:     127.0.0.1:54673 - \"GET /static-files/static/css/experimentPage.b886c467.chunk.css HTTP/1.1\" 200 OK\n",
      "INFO:     127.0.0.1:54668 - \"GET /static-files/static/js/experimentPage.dda9877d.chunk.js HTTP/1.1\" 200 OK\n",
      "INFO:     127.0.0.1:54673 - \"POST /ajax-api/2.0/mlflow/experiments/search-datasets HTTP/1.1\" 200 OK\n",
      "INFO:     127.0.0.1:54669 - \"GET /ajax-api/2.0/mlflow/experiments/get?experiment_id=551520531669055046 HTTP/1.1\" 200 OK\n",
      "INFO:     127.0.0.1:54670 - \"POST /ajax-api/2.0/mlflow/runs/search HTTP/1.1\" 200 OK\n",
      "INFO:     127.0.0.1:54672 - \"GET /static-files/static/css/1570.21d39143.chunk.css HTTP/1.1\" 200 OK\n",
      "INFO:     127.0.0.1:54668 - \"GET /static-files/static/js/1570.e6a5ccf7.chunk.js HTTP/1.1\" 200 OK\n",
      "INFO:     127.0.0.1:54671 - \"GET /static-files/static/js/2402.1c147bbf.chunk.js HTTP/1.1\" 200 OK\n",
      "INFO:     127.0.0.1:54673 - \"GET /ajax-api/2.0/mlflow/gateway-proxy?gateway_path=api%2F2.0%2Fendpoints%2F HTTP/1.1\" 200 OK\n",
      "INFO:     127.0.0.1:54669 - \"POST /ajax-api/2.0/mlflow/logged-models/search HTTP/1.1\" 200 OK\n",
      "INFO:     127.0.0.1:54727 - \"POST /ajax-api/2.0/mlflow/runs/search HTTP/1.1\" 200 OK\n",
      "INFO:     127.0.0.1:54794 - \"POST /ajax-api/2.0/mlflow/runs/search HTTP/1.1\" 200 OK\n",
      "INFO:     127.0.0.1:54803 - \"GET /static-files/static/js/47.fbc06a47.chunk.js HTTP/1.1\" 200 OK\n",
      "INFO:     127.0.0.1:54802 - \"GET /static-files/static/js/2149.2b521c18.chunk.js HTTP/1.1\" 200 OK\n",
      "INFO:     127.0.0.1:54805 - \"GET /static-files/static/css/8655.a1aab422.chunk.css HTTP/1.1\" 200 OK\n",
      "INFO:     127.0.0.1:54804 - \"GET /static-files/static/js/4588.d69c50d6.chunk.js HTTP/1.1\" 200 OK\n",
      "INFO:     127.0.0.1:54802 - \"POST /graphql HTTP/1.1\" 200 OK\n",
      "INFO:     127.0.0.1:54803 - \"POST /ajax-api/2.0/mlflow/logged-models/search HTTP/1.1\" 200 OK\n",
      "INFO:     127.0.0.1:54802 - \"GET /ajax-api/2.0/mlflow/runs/get?run_id=94cd5dee16c14eb494e437ff8bf4ba4f HTTP/1.1\" 200 OK\n",
      "INFO:     127.0.0.1:54803 - \"GET /ajax-api/2.0/mlflow/runs/get?run_id=da0455064b7d4955875e0865ee1239b6 HTTP/1.1\" 200 OK\n",
      "INFO:     127.0.0.1:54805 - \"GET /ajax-api/2.0/mlflow/runs/get?run_id=3437f946888c419dba35d59a1cea83d6 HTTP/1.1\" 200 OK\n",
      "INFO:     127.0.0.1:54804 - \"GET /ajax-api/2.0/mlflow/runs/get?run_id=5cbe1038ad3e4527b8e0123a987f36e8 HTTP/1.1\" 200 OK\n",
      "INFO:     127.0.0.1:54802 - \"POST /ajax-api/2.0/mlflow/experiments/search-datasets HTTP/1.1\" 200 OK\n",
      "INFO:     127.0.0.1:54803 - \"GET /ajax-api/2.0/mlflow/gateway-proxy?gateway_path=api%2F2.0%2Fendpoints%2F HTTP/1.1\" 200 OK\n",
      "INFO:     127.0.0.1:54805 - \"POST /ajax-api/2.0/mlflow/logged-models/search HTTP/1.1\" 200 OK\n",
      "INFO:     127.0.0.1:54804 - \"POST /ajax-api/2.0/mlflow/runs/search HTTP/1.1\" 200 OK\n",
      "INFO:     127.0.0.1:54818 - \"GET /static-files/static/js/3464.83ee62c8.chunk.js HTTP/1.1\" 200 OK\n",
      "INFO:     127.0.0.1:54820 - \"GET /static-files/static/css/301.ca66900f.chunk.css HTTP/1.1\" 200 OK\n",
      "INFO:     127.0.0.1:54819 - \"GET /static-files/static/js/301.be95b5c5.chunk.js HTTP/1.1\" 200 OK\n",
      "INFO:     127.0.0.1:54818 - \"GET /ajax-api/2.0/mlflow/registered-models/search?filter=&max_results=25&order_by=name+ASC HTTP/1.1\" 200 OK\n",
      "INFO:     127.0.0.1:54820 - \"GET /ajax-api/2.0/mlflow/experiments/search?max_results=25&order_by=last_update_time+DESC HTTP/1.1\" 200 OK\n",
      "INFO:     127.0.0.1:54818 - \"GET /ajax-api/2.0/mlflow/gateway-proxy?gateway_path=api%2F2.0%2Fendpoints%2F HTTP/1.1\" 200 OK\n",
      "INFO:     127.0.0.1:54819 - \"POST /ajax-api/2.0/mlflow/experiments/search-datasets HTTP/1.1\" 200 OK\n",
      "INFO:     127.0.0.1:54820 - \"POST /ajax-api/2.0/mlflow/logged-models/search HTTP/1.1\" 200 OK\n",
      "INFO:     127.0.0.1:54821 - \"POST /ajax-api/2.0/mlflow/runs/search HTTP/1.1\" 200 OK\n",
      "INFO:     127.0.0.1:54822 - \"GET /static-files/static/js/2633.4202aaab.chunk.js HTTP/1.1\" 200 OK\n",
      "INFO:     127.0.0.1:54823 - \"GET /static-files/static/js/2586.11dd4abc.chunk.js HTTP/1.1\" 200 OK\n",
      "INFO:     127.0.0.1:54824 - \"GET /static-files/static/js/701.4cd15ac7.chunk.js HTTP/1.1\" 200 OK\n",
      "INFO:     127.0.0.1:54825 - \"GET /static-files/static/css/5293.5f214259.chunk.css HTTP/1.1\" 200 OK\n",
      "INFO:     127.0.0.1:54826 - \"GET /static-files/static/js/5293.35c80ee2.chunk.js HTTP/1.1\" 200 OK\n",
      "INFO:     127.0.0.1:54823 - \"GET /ajax-api/2.0/mlflow/model-versions/search?filter=tags.%60mlflow.prompt.is_prompt%60+%3D+%27true%27+AND+tags.%60mlflow.prompt.run_ids%60+ILIKE+%22%2594cd5dee16c14eb494e437ff8bf4ba4f%25%22 HTTP/1.1\" 200 OK\n",
      "INFO:     127.0.0.1:54825 - \"GET /ajax-api/2.0/mlflow/model-versions/search?filter=run_id%3D%2794cd5dee16c14eb494e437ff8bf4ba4f%27 HTTP/1.1\" 200 OK\n",
      "INFO:     127.0.0.1:54824 - \"GET /ajax-api/2.0/mlflow/artifacts/list?run_uuid=94cd5dee16c14eb494e437ff8bf4ba4f HTTP/1.1\" 200 OK\n",
      "INFO:     127.0.0.1:54826 - \"GET /static-files/static/media/fontawesome-webfont.20fd1704ea223900efa9.woff2 HTTP/1.1\" 200 OK\n",
      "INFO:     127.0.0.1:54822 - \"GET /ajax-api/2.0/mlflow/artifacts/list?run_uuid=94cd5dee16c14eb494e437ff8bf4ba4f&path=plots HTTP/1.1\" 200 OK\n",
      "INFO:     127.0.0.1:54827 - \"GET /ajax-api/2.0/mlflow/model-versions/search?filter=run_id%3D%2794cd5dee16c14eb494e437ff8bf4ba4f%27 HTTP/1.1\" 200 OK\n",
      "INFO:     127.0.0.1:54828 - \"GET /ajax-api/2.0/mlflow/model-versions/search?filter=run_id%3D%2794cd5dee16c14eb494e437ff8bf4ba4f%27 HTTP/1.1\" 200 OK\n",
      "INFO:     127.0.0.1:54829 - \"GET /ajax-api/2.0/mlflow/model-versions/search?filter=run_id%3D%2794cd5dee16c14eb494e437ff8bf4ba4f%27 HTTP/1.1\" 200 OK\n",
      "INFO:     127.0.0.1:54830 - \"GET /ajax-api/2.0/mlflow/model-versions/search?filter=run_id%3D%2794cd5dee16c14eb494e437ff8bf4ba4f%27 HTTP/1.1\" 200 OK\n",
      "INFO:     127.0.0.1:54831 - \"GET /ajax-api/2.0/mlflow/model-versions/search?filter=run_id%3D%2794cd5dee16c14eb494e437ff8bf4ba4f%27 HTTP/1.1\" 200 OK\n",
      "INFO:     127.0.0.1:54833 - \"GET /ajax-api/2.0/mlflow/model-versions/search?filter=run_id%3D%2794cd5dee16c14eb494e437ff8bf4ba4f%27 HTTP/1.1\" 200 OK\n",
      "INFO:     127.0.0.1:54834 - \"GET /ajax-api/2.0/mlflow/model-versions/search?filter=run_id%3D%2794cd5dee16c14eb494e437ff8bf4ba4f%27 HTTP/1.1\" 200 OK\n",
      "INFO:     127.0.0.1:54835 - \"GET /ajax-api/2.0/mlflow/model-versions/search?filter=run_id%3D%2794cd5dee16c14eb494e437ff8bf4ba4f%27 HTTP/1.1\" 200 OK\n",
      "INFO:     127.0.0.1:54837 - \"GET /ajax-api/2.0/mlflow/model-versions/search?filter=run_id%3D%2794cd5dee16c14eb494e437ff8bf4ba4f%27 HTTP/1.1\" 200 OK\n",
      "INFO:     127.0.0.1:54854 - \"GET /ajax-api/2.0/mlflow/model-versions/search?filter=run_id%3D%2794cd5dee16c14eb494e437ff8bf4ba4f%27 HTTP/1.1\" 200 OK\n",
      "INFO:     127.0.0.1:54857 - \"GET /ajax-api/2.0/mlflow/model-versions/search?filter=run_id%3D%2794cd5dee16c14eb494e437ff8bf4ba4f%27 HTTP/1.1\" 200 OK\n",
      "INFO:     127.0.0.1:54863 - \"GET /ajax-api/2.0/mlflow/model-versions/search?filter=run_id%3D%2794cd5dee16c14eb494e437ff8bf4ba4f%27 HTTP/1.1\" 200 OK\n",
      "INFO:     127.0.0.1:54890 - \"GET /ajax-api/2.0/mlflow/model-versions/search?filter=run_id%3D%2794cd5dee16c14eb494e437ff8bf4ba4f%27 HTTP/1.1\" 200 OK\n",
      "INFO:     127.0.0.1:54905 - \"GET /ajax-api/2.0/mlflow/model-versions/search?filter=run_id%3D%2794cd5dee16c14eb494e437ff8bf4ba4f%27 HTTP/1.1\" 200 OK\n",
      "INFO:     127.0.0.1:54908 - \"GET /ajax-api/2.0/mlflow/model-versions/search?filter=run_id%3D%2794cd5dee16c14eb494e437ff8bf4ba4f%27 HTTP/1.1\" 200 OK\n",
      "INFO:     127.0.0.1:54917 - \"GET /ajax-api/2.0/mlflow/model-versions/search?filter=run_id%3D%2794cd5dee16c14eb494e437ff8bf4ba4f%27 HTTP/1.1\" 200 OK\n",
      "INFO:     127.0.0.1:54919 - \"GET /ajax-api/2.0/mlflow/model-versions/search?filter=run_id%3D%2794cd5dee16c14eb494e437ff8bf4ba4f%27 HTTP/1.1\" 200 OK\n",
      "INFO:     127.0.0.1:54920 - \"GET /ajax-api/2.0/mlflow/model-versions/search?filter=run_id%3D%2794cd5dee16c14eb494e437ff8bf4ba4f%27 HTTP/1.1\" 200 OK\n",
      "INFO:     127.0.0.1:54921 - \"GET /ajax-api/2.0/mlflow/model-versions/search?filter=run_id%3D%2794cd5dee16c14eb494e437ff8bf4ba4f%27 HTTP/1.1\" 200 OK\n",
      "INFO:     127.0.0.1:54922 - \"GET /ajax-api/2.0/mlflow/model-versions/search?filter=run_id%3D%2794cd5dee16c14eb494e437ff8bf4ba4f%27 HTTP/1.1\" 200 OK\n",
      "INFO:     127.0.0.1:54923 - \"GET /ajax-api/2.0/mlflow/model-versions/search?filter=run_id%3D%2794cd5dee16c14eb494e437ff8bf4ba4f%27 HTTP/1.1\" 200 OK\n",
      "INFO:     127.0.0.1:54926 - \"POST /ajax-api/3.0/mlflow/traces/search HTTP/1.1\" 200 OK\n",
      "INFO:     127.0.0.1:54926 - \"POST /ajax-api/2.0/mlflow/runs/search HTTP/1.1\" 200 OK\n",
      "INFO:     127.0.0.1:54926 - \"GET /ajax-api/2.0/mlflow/artifacts/list?run_uuid=94cd5dee16c14eb494e437ff8bf4ba4f HTTP/1.1\" 200 OK\n",
      "INFO:     127.0.0.1:54926 - \"GET /static-files/static/js/4850.b10d3c24.chunk.js HTTP/1.1\" 200 OK\n",
      "INFO:     127.0.0.1:54926 - \"GET /ajax-api/2.0/mlflow/artifacts/list?run_uuid=94cd5dee16c14eb494e437ff8bf4ba4f HTTP/1.1\" 200 OK\n",
      "INFO:     127.0.0.1:54960 - \"GET /ajax-api/2.0/mlflow/model-versions/search?filter=tags.%60mlflow.prompt.is_prompt%60+%3D+%27true%27+AND+tags.%60mlflow.prompt.run_ids%60+ILIKE+%22%2594cd5dee16c14eb494e437ff8bf4ba4f%25%22 HTTP/1.1\" 200 OK\n",
      "INFO:     127.0.0.1:54961 - \"GET /ajax-api/2.0/mlflow/artifacts/list?run_uuid=94cd5dee16c14eb494e437ff8bf4ba4f HTTP/1.1\" 200 OK\n",
      "INFO:     127.0.0.1:54961 - \"GET /ajax-api/2.0/mlflow/model-versions/search?filter=tags.%60mlflow.prompt.is_prompt%60+%3D+%27true%27+AND+tags.%60mlflow.prompt.run_ids%60+ILIKE+%22%2594cd5dee16c14eb494e437ff8bf4ba4f%25%22 HTTP/1.1\" 200 OK\n",
      "INFO:     127.0.0.1:54961 - \"POST /ajax-api/2.0/mlflow/experiments/search-datasets HTTP/1.1\" 200 OK\n",
      "INFO:     127.0.0.1:54961 - \"GET /ajax-api/2.0/mlflow/gateway-proxy?gateway_path=api%2F2.0%2Fendpoints%2F HTTP/1.1\" 200 OK\n",
      "INFO:     127.0.0.1:54962 - \"POST /ajax-api/2.0/mlflow/logged-models/search HTTP/1.1\" 200 OK\n",
      "INFO:     127.0.0.1:54963 - \"POST /ajax-api/2.0/mlflow/runs/search HTTP/1.1\" 200 OK\n",
      "INFO:     127.0.0.1:54961 - \"GET / HTTP/1.1\" 200 OK\n",
      "INFO:     127.0.0.1:54963 - \"GET /ajax-api/2.0/mlflow/experiments/get?experiment_id=551520531669055046 HTTP/1.1\" 200 OK\n",
      "INFO:     127.0.0.1:54961 - \"POST /ajax-api/2.0/mlflow/experiments/search-datasets HTTP/1.1\" 200 OK\n",
      "INFO:     127.0.0.1:54962 - \"POST /ajax-api/2.0/mlflow/runs/search HTTP/1.1\" 200 OK\n",
      "INFO:     127.0.0.1:54963 - \"GET /ajax-api/2.0/mlflow/gateway-proxy?gateway_path=api%2F2.0%2Fendpoints%2F HTTP/1.1\" 200 OK\n",
      "INFO:     127.0.0.1:54961 - \"POST /ajax-api/2.0/mlflow/logged-models/search HTTP/1.1\" 200 OK\n",
      "INFO:     127.0.0.1:54962 - \"POST /ajax-api/2.0/mlflow/runs/search HTTP/1.1\" 200 OK\n",
      "INFO:     127.0.0.1:54966 - \"POST /ajax-api/2.0/mlflow/runs/search HTTP/1.1\" 200 OK\n",
      "INFO:     127.0.0.1:55072 - \"POST /ajax-api/2.0/mlflow/runs/search HTTP/1.1\" 200 OK\n",
      "INFO:     127.0.0.1:55749 - \"POST /ajax-api/2.0/mlflow/runs/search HTTP/1.1\" 200 OK\n",
      "INFO:     127.0.0.1:55792 - \"POST /ajax-api/2.0/mlflow/runs/search HTTP/1.1\" 200 OK\n",
      "INFO:     127.0.0.1:55861 - \"POST /ajax-api/2.0/mlflow/runs/search HTTP/1.1\" 200 OK\n",
      "INFO:     127.0.0.1:55861 - \"GET /static-files/static/js/2633.4202aaab.chunk.js HTTP/1.1\" 200 OK\n",
      "INFO:     127.0.0.1:55863 - \"GET /static-files/static/js/47.fbc06a47.chunk.js HTTP/1.1\" 200 OK\n",
      "INFO:     127.0.0.1:55864 - \"GET /static-files/static/css/5293.5f214259.chunk.css HTTP/1.1\" 200 OK\n",
      "INFO:     127.0.0.1:55862 - \"GET /static-files/static/js/2149.2b521c18.chunk.js HTTP/1.1\" 200 OK\n",
      "INFO:     127.0.0.1:55863 - \"GET /ajax-api/2.0/mlflow/model-versions/search?filter=tags.%60mlflow.prompt.is_prompt%60+%3D+%27true%27+AND+tags.%60mlflow.prompt.run_ids%60+ILIKE+%22%25da0455064b7d4955875e0865ee1239b6%25%22 HTTP/1.1\" 200 OK\n",
      "INFO:     127.0.0.1:55864 - \"GET /ajax-api/2.0/mlflow/model-versions/search?filter=run_id%3D%27da0455064b7d4955875e0865ee1239b6%27 HTTP/1.1\" 200 OK\n",
      "INFO:     127.0.0.1:55861 - \"GET /ajax-api/2.0/mlflow/artifacts/list?run_uuid=da0455064b7d4955875e0865ee1239b6 HTTP/1.1\" 200 OK\n",
      "INFO:     127.0.0.1:55862 - \"GET /get-artifact?path=forecast_XGB_12Months.png&run_uuid=da0455064b7d4955875e0865ee1239b6 HTTP/1.1\" 200 OK\n"
     ]
    }
   ],
   "source": [
    "df_train_ML_ready = pd.read_parquet(\"/Users/laurapeters/Desktop/VS-Time-series-Projekt/files/df_train_ML_ready.parquet\")\n",
    "\n",
    "# Optional: kurz prüfen\n",
    "print(df_train_ML_ready.head())"
   ]
  }
 ],
 "metadata": {
  "kernelspec": {
   "display_name": "Python 3",
   "language": "python",
   "name": "python3"
  },
  "language_info": {
   "codemirror_mode": {
    "name": "ipython",
    "version": 3
   },
   "file_extension": ".py",
   "mimetype": "text/x-python",
   "name": "python",
   "nbconvert_exporter": "python",
   "pygments_lexer": "ipython3",
   "version": "3.11.9"
  }
 },
 "nbformat": 4,
 "nbformat_minor": 5
}
